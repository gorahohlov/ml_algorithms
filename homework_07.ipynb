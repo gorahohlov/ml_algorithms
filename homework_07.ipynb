{
 "cells": [
  {
   "cell_type": "markdown",
   "id": "27be94f5",
   "metadata": {},
   "source": [
    "## Домашнее задание урока 7."
   ]
  },
  {
   "cell_type": "markdown",
   "id": "a131006f",
   "metadata": {},
   "source": [
    "#### Задание 1. \n",
    "К алгоритму kNN, представленному на уроке, реализуйте добавление весов для соседей по любому из показанных на уроке принципов. Сравните точность нового алгоритма с исходным при разных значениях `k`."
   ]
  },
  {
   "cell_type": "code",
   "execution_count": 1,
   "id": "34343a14",
   "metadata": {},
   "outputs": [],
   "source": [
    "from sklearn.tree import DecisionTreeRegressor\n",
    "from sklearn.model_selection import train_test_split\n",
    "from sklearn.datasets import load_iris\n",
    "X, y = load_iris(return_X_y=True)\n",
    "\n",
    "import numpy as np\n",
    "import random\n",
    "from matplotlib import pyplot as plt\n",
    "%matplotlib inline\n",
    "\n",
    "X_train, X_test, y_train, y_test = train_test_split(X, y, test_size=.3, random_state=42)"
   ]
  },
  {
   "cell_type": "code",
   "execution_count": 2,
   "id": "3adfc58f",
   "metadata": {},
   "outputs": [],
   "source": [
    "def euclidian_metric(vec1, vec2):\n",
    "#     metrics = 0\n",
    "#     for num, _ in enumerate(vec1):\n",
    "#         metrics += (vec1[num] - vec2[num]) ** 2\n",
    "#     return np.sqrt(metrics)\n",
    "    \n",
    "    metrics = [(v - vec2[n]) ** 2 for n, v in enumerate(vec1)]\n",
    "    return np.sqrt(sum(metrics))"
   ]
  },
  {
   "cell_type": "code",
   "execution_count": 3,
   "id": "6e4e8115",
   "metadata": {},
   "outputs": [],
   "source": [
    "def knn_algorithm(x_train, y_train, x_test, k, weighted=True):\n",
    "    answ = []\n",
    "    for x in x_test:\n",
    "        dist = []\n",
    "        for n, v in enumerate(x_train):\n",
    "            dist.append((euclidian_metric(x, v), y_train[n]))\n",
    "        k_neighbours = sorted(dist)[0:k]\n",
    "        classes = {label: 0 for label in set(y_train)}\n",
    "        for num, val in enumerate(k_neighbours):\n",
    "            if weighted == True:\n",
    "                # w_ = 1 / (num + 1)\n",
    "                w_ = .1 ** val[0]\n",
    "            else:\n",
    "                w_ = 1\n",
    "            classes[val[1]] += w_\n",
    "        answ.append(sorted(classes, key=classes.get)[-1])\n",
    "    return answ"
   ]
  },
  {
   "cell_type": "code",
   "execution_count": 4,
   "id": "3184883b",
   "metadata": {},
   "outputs": [],
   "source": [
    "def accuracy_knn(pred, orig):\n",
    "    return print(f\"Accuracy_kNN_algorithm:={sum(pred == orig) / len(pred):.4f}\")"
   ]
  },
  {
   "cell_type": "code",
   "execution_count": 5,
   "id": "649ee303",
   "metadata": {},
   "outputs": [
    {
     "name": "stdout",
     "output_type": "stream",
     "text": [
      "Accuracy_kNN_algorithm:=1.0000\n"
     ]
    },
    {
     "data": {
      "text/plain": [
       "array([1, 0, 2, 1, 1, 0, 1, 2, 1, 1, 2, 0, 0, 0, 0, 1, 2, 1, 1, 2, 0, 2,\n",
       "       0, 2, 2, 2, 2, 2, 0, 0, 0, 0, 1, 0, 0, 2, 1, 0, 0, 0, 2, 1, 1, 0,\n",
       "       0])"
      ]
     },
     "execution_count": 5,
     "metadata": {},
     "output_type": "execute_result"
    }
   ],
   "source": [
    "pred = knn_algorithm(X_train, y_train, X_test, k=5)\n",
    "accuracy_knn(pred, y_test)\n",
    "np.array(pred)"
   ]
  },
  {
   "cell_type": "markdown",
   "id": "52dc18eb",
   "metadata": {},
   "source": [
    "#### Задание 2. (\\*) \n",
    "Напишите функцию подсчета метрики качества кластеризации как среднее квадратичное внутрикластерное расстояние и постройте график ее зависимости от количества кластеров `k` (взять от 1 до 10) для выборки данных из данного урока (создать датасет, как в методичке)."
   ]
  },
  {
   "cell_type": "code",
   "execution_count": 6,
   "id": "0ef8e055",
   "metadata": {},
   "outputs": [
    {
     "data": {
      "image/png": "[encoded data removed]",
      "text/plain": [
       "<Figure size 1152x576 with 1 Axes>"
      ]
     },
     "metadata": {},
     "output_type": "display_data"
    }
   ],
   "source": [
    "from sklearn.datasets import make_blobs\n",
    "X, y = make_blobs(n_samples=100, random_state=1)\n",
    "\n",
    "plt.figure(facecolor=\"g\", figsize=(16,8))\n",
    "plt.scatter(X[:,0], X[:,1])\n",
    "plt.show()"
   ]
  },
  {
   "cell_type": "code",
   "execution_count": 7,
   "id": "b2048108",
   "metadata": {},
   "outputs": [],
   "source": [
    "def kmeans_algorithm(data, k, max_iterations, min_distance):\n",
    "    random.seed(29)\n",
    "    # выберем наугад 6 точек данных в качестве центроидов\n",
    "    # centroids = data[random.sample(range(len(data)), k=k)]\n",
    "    centroids = [data[i] for i in range(k)]\n",
    "    \n",
    "    for iteration in range(max_iterations):\n",
    "        label_dict = {i: [] for i in range(k)}\n",
    "        for x in data:\n",
    "            dist = [euclidian_metric(x, centroid) for centroid in centroids]\n",
    "            label_dict[dist.index(min(dist))].append(x)\n",
    "        prev_centroids = centroids.copy()\n",
    "        for n, _ in enumerate(centroids):\n",
    "            centroids[n] = np.mean(label_dict[n], axis=0)\n",
    "        stop_flag = True\n",
    "        for i in range(k):\n",
    "            dist = euclidian_metric(prev_centroids[i], centroids[i])\n",
    "            if dist > min_distance:\n",
    "                stop_flag = False\n",
    "        # print(f\"iteration #{iteration}\")\n",
    "        if stop_flag:\n",
    "            print(\"Stop. iteratins_num is: \", iteration)\n",
    "            break\n",
    "    return prev_centroids, label_dict"
   ]
  },
  {
   "cell_type": "code",
   "execution_count": 8,
   "id": "78bf6520",
   "metadata": {},
   "outputs": [
    {
     "name": "stdout",
     "output_type": "stream",
     "text": [
      "Stop. iteratins_num is:  3\n"
     ]
    }
   ],
   "source": [
    "# _, label_dict = kmeans_algorithm(X, 3, 10, 10)\n",
    "# label_dict = [list(elem) for elem in label_dict[1]]\n",
    "# label_dict, _\n",
    "\n",
    "centroids, label_dict = kmeans_algorithm(X, 3, 4, 1e-4)"
   ]
  },
  {
   "cell_type": "code",
   "execution_count": 9,
   "id": "8a1f76f6",
   "metadata": {},
   "outputs": [],
   "source": [
    "def euclidian_ms(vec1, vec2):\n",
    "    ms = [(v - vec2[n]) ** 2 for n, v in enumerate(vec1)]\n",
    "    return sum(ms)\n",
    "\n",
    "def ms_cluster_cohesion(centroids, label_dict):\n",
    "    sum_ms_cluster_coh = []\n",
    "    for cluster in label_dict:\n",
    "        cluster_cohesion = 0\n",
    "        for obj in label_dict[cluster]:\n",
    "            cluster_cohesion += euclidian_ms(obj, centroids[cluster])\n",
    "        cluster_cohesion /= len(label_dict[cluster])\n",
    "        sum_ms_cluster_coh.append(cluster_cohesion)\n",
    "    return sum(sum_ms_cluster_coh)"
   ]
  },
  {
   "cell_type": "code",
   "execution_count": 10,
   "id": "d4bef080",
   "metadata": {},
   "outputs": [
    {
     "data": {
      "text/plain": [
       "4.6822162587384675"
      ]
     },
     "execution_count": 10,
     "metadata": {},
     "output_type": "execute_result"
    }
   ],
   "source": [
    "ms_cluster_cohesion(centroids, label_dict)\n",
    "# Функция работает корректно. Проверено."
   ]
  },
  {
   "cell_type": "code",
   "execution_count": 11,
   "id": "35235bab",
   "metadata": {},
   "outputs": [
    {
     "name": "stdout",
     "output_type": "stream",
     "text": [
      "Stop. iteratins_num is:  1\n",
      "Stop. iteratins_num is:  1\n",
      "Stop. iteratins_num is:  3\n",
      "Stop. iteratins_num is:  3\n",
      "Stop. iteratins_num is:  3\n",
      "Stop. iteratins_num is:  3\n",
      "Stop. iteratins_num is:  3\n",
      "Stop. iteratins_num is:  4\n",
      "Stop. iteratins_num is:  4\n",
      "Stop. iteratins_num is:  7\n"
     ]
    },
    {
     "data": {
      "image/png": "[encoded data removed]",
      "text/plain": [
       "<Figure size 864x576 with 1 Axes>"
      ]
     },
     "metadata": {},
     "output_type": "display_data"
    }
   ],
   "source": [
    "ms_cluster_coh_metric = []\n",
    "for clusters in range(1, 11):\n",
    "    centroids, label_dict = kmeans_algorithm(X, clusters, 10, 1e-4)\n",
    "    ms_cluster_coh_metric.append(ms_cluster_cohesion(centroids, label_dict))\n",
    "\n",
    "plt.figure(figsize=(12,8), facecolor=\"g\")\n",
    "plt.plot(range(1, 11), ms_cluster_coh_metric)\n",
    "plt.grid()\n",
    "plt.show()"
   ]
  },
  {
   "cell_type": "markdown",
   "id": "9363c442",
   "metadata": {},
   "source": [
    "Видно что график среднеквадратичного внутрикластерного расстояния \"ложится\" на ассимптому после количества кластеров = 3; Т.е. оптимальное количество кластеров (`k`) для этой модели равно трем ($k=3$)."
   ]
  }
 ],
 "metadata": {
  "kernelspec": {
   "display_name": "Python 3 (ipykernel)",
   "language": "python",
   "name": "python3"
  },
  "language_info": {
   "codemirror_mode": {
    "name": "ipython",
    "version": 3
   },
   "file_extension": ".py",
   "mimetype": "text/x-python",
   "name": "python",
   "nbconvert_exporter": "python",
   "pygments_lexer": "ipython3",
   "version": "3.9.4"
  }
 },
 "nbformat": 4,
 "nbformat_minor": 5
}
