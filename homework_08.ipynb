{
 "cells": [
  {
   "cell_type": "markdown",
   "id": "713e1293",
   "metadata": {
    "colab_type": "text",
    "id": "b-eNSDPndfKU"
   },
   "source": [
    "### 1. Можно ли отобрать наиболее значимые признаки из имеющихся с помощью PCA? Ответ объясните."
   ]
  },
  {
   "cell_type": "markdown",
   "id": "ad2f029e",
   "metadata": {},
   "source": [
    "Ответ: Нет, нельзя. Потому что <font color=\"magenta\">*__метод PCA не осущетсвляет отбор признаков. Метод PCA создает новые признаки,__*</font> которые теряют свою предметную интерпритацию.\n",
    "\n",
    "Features матрицы \"объекты-признаки\" образуют ортогональный базис пространства. Изначально это понятные сущности: длина, ширина чашелистиков, лепестков, цены и т.д.\n",
    "\n",
    "Метод PCA строит (создает) новый базис этого пространства на основе собственных векторов - этот новый базис, к слову сказать, вовсе не обязан даже быть ортогональным, т.е. собственные вектора исходной матрицы \"объекты-признаки\" не обязательно будут ортогональные друг другу (во всяком случае линейной алгебре допускаются ситуации когда собственные вектора неортогональны друг другу, или их может оказаться недостаточно чтобы построить базис пространства, или их может не быть вовсе, или их будет бесконечное множество).\n",
    "\n",
    "Таким образом после перехода к новому базису на основе собственных векторов новые признаки становится невозможно связать с сущностями из окружающего нас мира. Новые признаки это просто feature1, feature2 и т.д. - это максимум что мы можем сделать для ниж. Потом из этого пока что полного набора признаков выбирается подмножество признаков (соответствующих максимальным собственным значениям) и на их основе строится новое подпространство."
   ]
  },
  {
   "cell_type": "markdown",
   "id": "2d18139e",
   "metadata": {
    "colab_type": "text",
    "id": "b-eNSDPndfKU"
   },
   "source": [
    "#### 2. (\\*) Написать свою реализацию метода главных компонент с помощью сингулярного разложения с использованием функции [numpy.linalg.svd()](https://docs.scipy.org/doc/numpy/reference/generated/numpy.linalg.svd.html). Применить к данным на уроке и сравнить ответы."
   ]
  },
  {
   "cell_type": "raw",
   "id": "0db58693",
   "metadata": {},
   "source": [
    "print(iris.DESCR)"
   ]
  },
  {
   "cell_type": "code",
   "execution_count": 1,
   "id": "4000f943",
   "metadata": {},
   "outputs": [
    {
     "data": {
      "text/plain": [
       "(150, 4)"
      ]
     },
     "execution_count": 1,
     "metadata": {},
     "output_type": "execute_result"
    }
   ],
   "source": [
    "import numpy as np\n",
    "from sklearn import datasets\n",
    "from matplotlib import pyplot as plt\n",
    "plt.rcParams[\"figure.facecolor\"] = \"green\"\n",
    "iris = datasets.load_iris()\n",
    "X = iris.data\n",
    "X.shape"
   ]
  },
  {
   "cell_type": "code",
   "execution_count": 2,
   "id": "db3d8e7a",
   "metadata": {},
   "outputs": [
    {
     "data": {
      "text/plain": [
       "array([[-0.90068117,  1.01900435, -1.34022653, -1.3154443 ],\n",
       "       [-1.14301691, -0.13197948, -1.34022653, -1.3154443 ],\n",
       "       [-1.38535265,  0.32841405, -1.39706395, -1.3154443 ],\n",
       "       [-1.50652052,  0.09821729, -1.2833891 , -1.3154443 ],\n",
       "       [-1.02184904,  1.24920112, -1.34022653, -1.3154443 ],\n",
       "       [-0.53717756,  1.93979142, -1.16971425, -1.05217993]])"
      ]
     },
     "execution_count": 2,
     "metadata": {},
     "output_type": "execute_result"
    }
   ],
   "source": [
    "# стандартизируем признаки\n",
    "from sklearn.preprocessing import StandardScaler\n",
    "scaler = StandardScaler()\n",
    "X_ = scaler.fit_transform(X)\n",
    "X_[:6]"
   ]
  },
  {
   "cell_type": "markdown",
   "id": "2d2b306c",
   "metadata": {},
   "source": [
    "Что мы делаем:\n",
    "\n",
    "Для начала нам нужно найти собственные значения и собственные вектора матрицы ковариации отмаштабированной матрицы \"объекты-признаки\" `X_`. Собственные вектора (и собственные значения) можно найти либо прямым образом - как мы делали на уроке, либо используя сингулярное разложение исходной (маштабированной) матрицы \"объекты-признаки\" `X_`.\n",
    "\n",
    "Мы знаем, что собственные вектора матрицы ковариаций $X\\_^T \\cdot X\\_$ являются правые сингулярные векторы отмаштабироанной матрицы $X\\_$, т.е. столбцы матрицы $V$ из формулы сингулярного разложения:\n",
    "$$A = UDV^T$$\n",
    "а собственные значения матрицы ковариаций будут квадраты сингулярных чисел матрицы $X\\_$\n",
    "\n",
    "Таким образом нам нужно получить сингулярное разложение матирцы $X\\_$ и отобрать столбцы матрицы $V$ соответствующие наибольшим квадратам сингулярных чисел - мы составим из этих столбцов матрицу $W^T$;\n",
    "\n",
    "Чтобы получить новую матрицу \"объекты-признаки\" $Z$ - выполним матричное умножение:\n",
    "$$Z=X\\_W^T.$$\n",
    "\n",
    "вуаля, все должно сойтись с тем что было на уроке."
   ]
  },
  {
   "cell_type": "code",
   "execution_count": 3,
   "id": "f116e839",
   "metadata": {},
   "outputs": [],
   "source": [
    "# выполняем сингулярное разложение с помощью numpy.linalg\n",
    "np.set_printoptions(precision=4, suppress=True)\n",
    "u, s, vh = np.linalg.svd(X_)"
   ]
  },
  {
   "cell_type": "code",
   "execution_count": 4,
   "id": "d728b02f",
   "metadata": {},
   "outputs": [],
   "source": [
    "# получаем диагональную матрицу D\n",
    "D = np.zeros_like(X_)\n",
    "ind = list(range(4))\n",
    "D[ind, ind] = s"
   ]
  },
  {
   "cell_type": "code",
   "execution_count": 5,
   "id": "d603606d",
   "metadata": {},
   "outputs": [],
   "source": [
    "# получим из матрицы сингулярного разложения VT матрицу V транспонируя VT;\n",
    "v = vh.T"
   ]
  },
  {
   "cell_type": "code",
   "execution_count": 6,
   "id": "aeb23c19",
   "metadata": {},
   "outputs": [
    {
     "data": {
      "text/plain": [
       "array([[-0.9007,  1.019 , -1.3402, -1.3154],\n",
       "       [-1.143 , -0.132 , -1.3402, -1.3154],\n",
       "       [-1.3854,  0.3284, -1.3971, -1.3154],\n",
       "       [-1.5065,  0.0982, -1.2834, -1.3154],\n",
       "       [-1.0218,  1.2492, -1.3402, -1.3154],\n",
       "       [-0.5372,  1.9398, -1.1697, -1.0522]])"
      ]
     },
     "execution_count": 6,
     "metadata": {},
     "output_type": "execute_result"
    }
   ],
   "source": [
    "# для начала проверим, что перемножим получившиеся матрицы мы получим исходную.\n",
    "(u@D@vh)[:6,:]"
   ]
  },
  {
   "cell_type": "code",
   "execution_count": 7,
   "id": "10b234cf",
   "metadata": {},
   "outputs": [
    {
     "data": {
      "text/plain": [
       "array([[150.    , -17.6355, 130.7631, 122.6912],\n",
       "       [-17.6355, 150.    , -64.266 , -54.9189],\n",
       "       [130.7631, -64.266 , 150.    , 144.4298],\n",
       "       [122.6912, -54.9189, 144.4298, 150.    ]])"
      ]
     },
     "execution_count": 7,
     "metadata": {},
     "output_type": "execute_result"
    }
   ],
   "source": [
    "# проверим перемножение матриц V@D@D@VT получим ковариационную матрицу X_.T@X_\n",
    "v@D[:4]@D[:4]@vh"
   ]
  },
  {
   "cell_type": "code",
   "execution_count": 8,
   "id": "1113c6b0",
   "metadata": {},
   "outputs": [
    {
     "data": {
      "text/plain": [
       "array([[150.    , -17.6355, 130.7631, 122.6912],\n",
       "       [-17.6355, 150.    , -64.266 , -54.9189],\n",
       "       [130.7631, -64.266 , 150.    , 144.4298],\n",
       "       [122.6912, -54.9189, 144.4298, 150.    ]])"
      ]
     },
     "execution_count": 8,
     "metadata": {},
     "output_type": "execute_result"
    }
   ],
   "source": [
    "\"\"\"Видно что матрицы идентичны. \n",
    "Значит сингулярное разложение может помочь нам преобразовать исходную матрицу, выполнив понижение \n",
    "размерности признаков с помощью собственных векторов матрицы ковариаций.\n",
    "\"\"\"\n",
    "\n",
    "X_.T@X_"
   ]
  },
  {
   "cell_type": "code",
   "execution_count": 9,
   "id": "349a56cc",
   "metadata": {},
   "outputs": [
    {
     "data": {
      "text/plain": [
       "array([[ 228.1095,  -51.7457,   15.8402,    0.8119],\n",
       "       [-117.9135, -126.5881,   -5.3797,   -0.3838],\n",
       "       [ 254.0902,   -3.3579,   -3.1287,   -2.4903],\n",
       "       [ 247.2799,   -9.1781,  -13.9626,    1.6269]])"
      ]
     },
     "execution_count": 9,
     "metadata": {},
     "output_type": "execute_result"
    }
   ],
   "source": [
    "vh.T@D[:4]@D[:4]\n",
    "X_.T@X_@vh.T\n",
    "# эти матрицы, свидетельствующие о близости собственных векторов и их значений \n",
    "# с сингулярным разложением матрицы, тоже равны."
   ]
  },
  {
   "cell_type": "markdown",
   "id": "571e01f6",
   "metadata": {},
   "source": [
    "Выполним понижение размерности имея в виду что $W^T = V$ - составим матрицу $W^T$ из первых двух правых сингулярных векторов исходной матрицы ($X\\_$) соответствующих максимальным (по модулю) сингулярным числам."
   ]
  },
  {
   "cell_type": "code",
   "execution_count": 10,
   "id": "f1a46d2f",
   "metadata": {},
   "outputs": [
    {
     "name": "stdout",
     "output_type": "stream",
     "text": [
      "размерность новой матрицы Z: (150, 2)\n",
      "\n",
      "Ниже первые шесть объектов новой матрицы Z:\n",
      "[[-2.2647 -0.48  ]\n",
      " [-2.081   0.6741]\n",
      " [-2.3642  0.3419]\n",
      " [-2.2994  0.5974]\n",
      " [-2.3898 -0.6468]\n",
      " [-2.0756 -1.4892]]\n",
      "\n",
      "вуаля, все сходится с тем что мы получили на уроке!\n"
     ]
    }
   ],
   "source": [
    "# выполним понижение размерности оставив только 2 признака;\n",
    "Z = X_@v[:,:2]\n",
    "print(f\"размерность новой матрицы Z: {Z.shape}\\n\")\n",
    "print(f\"Ниже первые шесть объектов новой матрицы Z:\\n\"\n",
    "     f\"{Z[:6]}\\n\"\n",
    "     f\"\\nвуаля, все сходится с тем что мы получили на уроке!\")"
   ]
  },
  {
   "cell_type": "markdown",
   "id": "04c16cf6",
   "metadata": {
    "colab_type": "text",
    "id": "b-eNSDPndfKU"
   },
   "source": [
    "#### 3. (\\*) Обучить любую модель классификации (из рассмотренных в курсе) на датасете IRIS до применения PCA и после него. Сравнить качество классификации по отложенной выборке."
   ]
  },
  {
   "cell_type": "code",
   "execution_count": 11,
   "id": "a90dd272",
   "metadata": {},
   "outputs": [],
   "source": [
    "class my_DecisionTreeClassifier:\n",
    "    \n",
    "    def __init__(self, criterion=\"gini\", min_samples_leaf=1, max_leaf_nodes=None):\n",
    "        self.criterion = criterion\n",
    "        self.min_samples_leaf = min_samples_leaf\n",
    "        self.max_leaf_nodes = max_leaf_nodes\n",
    "        \n",
    "    def fit(self, data, labels, max_depth=None, subset_feats_flag=False):\n",
    "        self.max_depth = max_depth\n",
    "        quality, t, index = Node.find_best_split(self, data, labels, subset_feats_flag)\n",
    "        if (t is None) or (index is None):\n",
    "            return Leaf(data, labels)\n",
    "        true_data, false_data, true_labels, false_labels = Node.split(data, labels, index, t)\n",
    "        if (len(true_data) <= self.min_samples_leaf) or (len(false_data) <= self.min_samples_leaf):\n",
    "            return Leaf(data, labels)\n",
    "        if max_depth is not None:\n",
    "            if max_depth != 0:\n",
    "                max_d = max_depth - 1\n",
    "                true_branch = my_DecisionTreeClassifier.fit(self, true_data, true_labels, \n",
    "                                                            max_depth=max_d)\n",
    "                false_branch = my_DecisionTreeClassifier.fit(self, false_data, false_labels, \n",
    "                                                             max_depth=max_d)\n",
    "            else:\n",
    "                return Leaf(data, labels)\n",
    "        else:\n",
    "            true_branch = my_DecisionTreeClassifier.fit(self, true_data, true_labels)\n",
    "            false_branch = my_DecisionTreeClassifier.fit(self, false_data, false_labels)\n",
    "        self.dtree = Node(index, t, true_branch, false_branch)\n",
    "        return self.dtree\n",
    "    \n",
    "    @staticmethod\n",
    "    def classify_obj(obj, node):\n",
    "        if isinstance(node, Leaf):\n",
    "            answer = node.prediction\n",
    "            return answer\n",
    "        if obj[node.index] <= node.t:\n",
    "            return my_DecisionTreeClassifier.classify_obj(obj, node.true_branch)\n",
    "        else:\n",
    "            return my_DecisionTreeClassifier.classify_obj(obj, node.false_branch)\n",
    "    \n",
    "    def labels_predict(self, X, tree=None):\n",
    "        if tree is None:\n",
    "            tree = self.dtree\n",
    "        pred_vec = []\n",
    "        for obj in X:\n",
    "            pred_val = my_DecisionTreeClassifier.classify_obj(obj, tree)\n",
    "            pred_vec.append(pred_val)\n",
    "        return pred_vec\n",
    "    \n",
    "######    \n",
    "class Leaf:\n",
    "    def __init__(self, data, labels):\n",
    "        self.data = data\n",
    "        self.labels = labels\n",
    "        self.prediction = self.predict()\n",
    "    def predict(self):\n",
    "        classes = {}\n",
    "        for label in self.labels:\n",
    "            if label not in classes:\n",
    "                classes[label] = 0 \n",
    "            classes[label] += 1\n",
    "        prediction = max(classes, key=classes.get)\n",
    "        return prediction\n",
    "    \n",
    "######    \n",
    "class Node:\n",
    "    def __init__(self, index, t, true_branch, false_branch):\n",
    "        self.index = index\n",
    "        self.t = t\n",
    "        self.true_branch = true_branch\n",
    "        self.false_branch = false_branch\n",
    "\n",
    "    @staticmethod\n",
    "    def gini(labels):\n",
    "        classes = {}\n",
    "        for label in labels:\n",
    "            if label not in classes:\n",
    "                classes[label] = 0\n",
    "            classes[label] += 1\n",
    "        impurity = 1\n",
    "        for label in classes:\n",
    "            p = classes[label] / len(labels)\n",
    "            impurity -= p ** 2\n",
    "        return impurity\n",
    "    \n",
    "    @staticmethod\n",
    "    def entropy(labels):\n",
    "        classes = {}\n",
    "        for label in labels:\n",
    "            if label not in classes:\n",
    "                classes[label] = 0\n",
    "            classes[label] += 1\n",
    "        entropy_index = 0\n",
    "        for label in classes:\n",
    "            p = classes[label] / len(labels)\n",
    "            entropy_index -= 0 if p == 0 else p*np.log2(p)\n",
    "        return entropy_index\n",
    "\n",
    "    @staticmethod\n",
    "    def quality(left_labels, right_labels, criterion, current_criteria):\n",
    "        weig = float(left_labels.shape[0]) / (left_labels.shape[0] + right_labels.shape[0])\n",
    "        if criterion == 'gini':\n",
    "            return current_criteria - weig * Node.gini(left_labels) \\\n",
    "                                                                - (1 - weig) * Node.gini(right_labels)\n",
    "        elif criterion == 'entropy':\n",
    "            return current_criteria - weig * Node.entropy(left_labels) \\\n",
    "                                                                - (1 - weig) * Node.entropy(right_labels)\n",
    "    \n",
    "    @staticmethod\n",
    "    def split(data, labels, index, t):\n",
    "        left = np.where(data[:, index] <= t)\n",
    "        right = np.where(data[:, index] > t)\n",
    "        true_data = data[left]\n",
    "        false_data = data[right]\n",
    "        true_labels = labels[left]\n",
    "        false_labels = labels[right]\n",
    "        return true_data, false_data, true_labels, false_labels\n",
    "    \n",
    "    def find_best_split(self, data, labels, subset_feats_flag=False):\n",
    "        if self.criterion == 'gini':\n",
    "            current_criteria = Node.gini(labels)\n",
    "        elif self.criterion == 'entropy':\n",
    "            current_criteria = Node.entropy(labels)\n",
    "        best_quality = 0\n",
    "        best_t = None\n",
    "        best_index = None\n",
    "        k = (int(np.sqrt(data.shape[1])) if subset_feats_flag else data.shape[1])\n",
    "        for index in random.sample(range(data.shape[1]), k=k):\n",
    "            t_values = np.unique([row[index] for row in data])\n",
    "            for t in t_values:\n",
    "                true_data, false_data, true_labels, false_labels = Node.split(data, labels, index, t)\n",
    "                if len(true_data) < self.min_samples_leaf or len(false_data) < self.min_samples_leaf:\n",
    "                    continue\n",
    "                current_quality = Node.quality(true_labels, false_labels, \n",
    "                                               self.criterion, current_criteria)\n",
    "                if current_quality > best_quality:\n",
    "                    best_quality, best_t, best_index = current_quality, t, index\n",
    "        return best_quality, best_t, best_index\n",
    "\n",
    "    @staticmethod\n",
    "    def accuracy_metric(actual, predicted):\n",
    "        correct = 0\n",
    "        for i in range(len(actual)):\n",
    "            if actual[i] == predicted[i]:\n",
    "                correct += 1\n",
    "        return correct / float(len(actual))"
   ]
  },
  {
   "cell_type": "code",
   "execution_count": 12,
   "id": "7e35f529",
   "metadata": {},
   "outputs": [
    {
     "name": "stdout",
     "output_type": "stream",
     "text": [
      "Standart method Accuracy metric value is: 0.98\n"
     ]
    }
   ],
   "source": [
    "import random\n",
    "y_labels = iris.target\n",
    "dt_cls = my_DecisionTreeClassifier()\n",
    "dt_cls.fit(X_, y_labels)\n",
    "pred = dt_cls.labels_predict(X_)\n",
    "print(f\"Standart method Accuracy metric value is: {dt_cls.dtree.accuracy_metric(y_labels, pred)}\")"
   ]
  },
  {
   "cell_type": "code",
   "execution_count": 13,
   "id": "52542108",
   "metadata": {},
   "outputs": [
    {
     "name": "stdout",
     "output_type": "stream",
     "text": [
      "PCA method Accuracy metric value is: 0.98\n"
     ]
    }
   ],
   "source": [
    "dt_cls_PCA = my_DecisionTreeClassifier()\n",
    "dt_cls_PCA.fit(Z, y_labels)\n",
    "pred_Z = dt_cls_PCA.labels_predict(Z)\n",
    "print(f\"PCA method Accuracy metric value is: {Node.accuracy_metric(y_labels, pred_Z)}\")"
   ]
  },
  {
   "cell_type": "code",
   "execution_count": 14,
   "id": "66bb59a8",
   "metadata": {},
   "outputs": [],
   "source": [
    "class my_RandomForestClassifier(my_DecisionTreeClassifier):\n",
    "    \n",
    "    def __init__(self, n_trees=10):\n",
    "        self.n_trees = n_trees\n",
    "\n",
    "    def get_bootstrap(self, X, y, N=None):\n",
    "        if N is None: N = self.n_trees\n",
    "        random.seed(29)\n",
    "        n_samples = X.shape[0]\n",
    "        bootstrap_set = []\n",
    "        for _ in range(N):\n",
    "            indices = random.choices(range(n_samples), k=n_samples)\n",
    "            bootstrap_set.append((X[indices], y[indices]))\n",
    "        return bootstrap_set\n",
    "    \n",
    "    def oob_bootstrap(self, X, y, N=None):\n",
    "        if N is None: N = self.n_trees\n",
    "        random.seed(29)\n",
    "        n_samples = X.shape[0]\n",
    "        bootstrap_set = []\n",
    "        oob_set = []\n",
    "        oob_inv_ind = []\n",
    "        for _ in range(N):\n",
    "            indices = random.choices(range(n_samples), k=n_samples)\n",
    "            inv_indices = [val for val in range(n_samples) if not val in set(indices)]\n",
    "            oob_set.append((X[inv_indices], y[inv_indices]))\n",
    "            oob_inv_ind.append(inv_indices)\n",
    "            bootstrap_set.append((X[indices], y[indices]))\n",
    "        self.oob_inv_ind = oob_inv_ind\n",
    "        self.oob_set = oob_set\n",
    "        return bootstrap_set\n",
    "    \n",
    "    \"\"\"данный метод не потребовался; я внес изменения в надкласс my_DecisionTreeClassifier, \n",
    "       а конкретно в метод find_best_split();\"\"\"\n",
    "    #     @staticmethod\n",
    "    #     def get_feats_subset(num_feats):\n",
    "    #         num_subfeats = int(np.sqrt(num_feats))\n",
    "    #         subfeat_inds = random.sample(range(num_feats), k=num_subfeats)\n",
    "    #         return subfeat_inds\n",
    "    \n",
    "    def randomforest_build(self, X, y, n_trees=None):\n",
    "        if n_trees is None: n_trees = self.n_trees\n",
    "        forest = []\n",
    "        bs_set = my_RandomForestClassifier.oob_bootstrap(self, X, y, n_trees)\n",
    "        for bs_X, bs_y in bs_set:\n",
    "            cls = my_DecisionTreeClassifier()\n",
    "            forest.append(cls.fit(bs_X, bs_y, subset_feats_flag=True))\n",
    "        return forest\n",
    "    \n",
    "    def tree_vote(self, forest, data):\n",
    "        pred = []\n",
    "        for tree in forest:\n",
    "            pred.append(my_DecisionTreeClassifier.labels_predict(self, data, tree))\n",
    "        pred_per_obj = list(zip(*pred))\n",
    "        voted_pred = []\n",
    "        for obj in pred_per_obj:\n",
    "            voted_pred.append(max(obj, key=obj.count))\n",
    "        return voted_pred\n",
    "    \n",
    "    def oob_vote(self, forest):\n",
    "        oob_pred = []\n",
    "        oob_set = self.oob_set\n",
    "        oob_inv_ind = self.oob_inv_ind\n",
    "        for num, tree in enumerate(forest):\n",
    "            oob_pred.append(my_DecisionTreeClassifier.labels_predict(self, oob_set[num][0], tree))\n",
    "        oob_dict_pred = {}\n",
    "        oob_dict_actu = {}\n",
    "        for pos, p in enumerate(oob_pred):\n",
    "            for num, val in enumerate(p):\n",
    "                if oob_inv_ind[pos][num] not in oob_dict_pred:\n",
    "                    oob_dict_pred[oob_inv_ind[pos][num]] = [val]\n",
    "                    oob_dict_actu[oob_inv_ind[pos][num]] = oob_set[pos][1][num]\n",
    "                else:\n",
    "                    oob_dict_pred[oob_inv_ind[pos][num]].append(val)\n",
    "        for k, v in oob_dict_pred.items():\n",
    "            oob_dict_pred[k] = max(v, key=v.count)\n",
    "        oob_pred_list = list(oob_dict_pred.values())\n",
    "        oob_actu_list = list(oob_dict_actu.values())\n",
    "        return oob_actu_list, oob_pred_list  # oob_dict_pred, oob_dict_actu"
   ]
  },
  {
   "cell_type": "code",
   "execution_count": 15,
   "id": "0df35f67",
   "metadata": {},
   "outputs": [
    {
     "name": "stdout",
     "output_type": "stream",
     "text": [
      "Standart method accuracy method is: 0.9800\n",
      "Accuracy check: 0.9800\n"
     ]
    }
   ],
   "source": [
    "rf_cls = my_RandomForestClassifier()\n",
    "forest1 = rf_cls.randomforest_build(X_, y_labels)\n",
    "pred1 = rf_cls.tree_vote(forest1, X_)\n",
    "accuracy1 = forest1[0].accuracy_metric(y_labels, pred1)\n",
    "print(f\"Standart method accuracy method is: {accuracy1:.4f}\")\n",
    "print(f\"Accuracy check: {Node.accuracy_metric(y_labels, pred1):.4f}\")"
   ]
  },
  {
   "cell_type": "code",
   "execution_count": 16,
   "id": "d6aff3cf",
   "metadata": {},
   "outputs": [
    {
     "name": "stdout",
     "output_type": "stream",
     "text": [
      "PCA method accuracy value is: 0.9733\n",
      "Accuracy check: 0.9733\n"
     ]
    }
   ],
   "source": [
    "rf_cls_PCA = my_RandomForestClassifier()\n",
    "forest2 = rf_cls_PCA.randomforest_build(Z, y_labels)\n",
    "pred2 = rf_cls.tree_vote(forest2, Z)\n",
    "accuracy2 = forest2[0].accuracy_metric(y_labels, pred2)\n",
    "print(f\"PCA method accuracy value is: {accuracy2:.4f}\")\n",
    "print(f\"Accuracy check: {Node.accuracy_metric(y_labels, pred2):.4f}\")"
   ]
  },
  {
   "cell_type": "code",
   "execution_count": 21,
   "id": "e005e316",
   "metadata": {},
   "outputs": [
    {
     "data": {
      "image/png": "[encoded data removed]",
      "text/plain": [
       "<Figure size 864x576 with 1 Axes>"
      ]
     },
     "metadata": {},
     "output_type": "display_data"
    }
   ],
   "source": [
    "plt.figure(figsize=(12,8))\n",
    "for c, m, i in zip(\"bgr\", \"osP\", range(3)):\n",
    "    plt.scatter(Z[y_labels==i, 0], Z[y_labels==i, 1], c=c, marker=m)\n",
    "plt.xlabel(\"feature1\")\n",
    "plt.ylabel(\"feature2\")\n",
    "plt.title(\"PCA decomposition method\")\n",
    "plt.grid()\n",
    "plt.show()"
   ]
  },
  {
   "cell_type": "markdown",
   "id": "25159082",
   "metadata": {},
   "source": [
    "<font color=\"yellow\" size=3.5 face=\"serif\">Вывод: Как видно по метрикам разница в использовании данных до и после понижения размерности методом PCA - почти (значимо) не отличаются.</font>"
   ]
  },
  {
   "cell_type": "markdown",
   "id": "e4d9bc36",
   "metadata": {},
   "source": [
    "#### 4. Принять участие в соревнованиях я к сожалению не смог(("
   ]
  }
 ],
 "metadata": {
  "kernelspec": {
   "display_name": "Python 3 (ipykernel)",
   "language": "python",
   "name": "python3"
  },
  "language_info": {
   "codemirror_mode": {
    "name": "ipython",
    "version": 3
   },
   "file_extension": ".py",
   "mimetype": "text/x-python",
   "name": "python",
   "nbconvert_exporter": "python",
   "pygments_lexer": "ipython3",
   "version": "3.9.4"
  }
 },
 "nbformat": 4,
 "nbformat_minor": 5
}
