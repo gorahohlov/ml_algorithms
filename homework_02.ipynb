{
 "cells": [
  {
   "cell_type": "markdown",
   "id": "cdf34203",
   "metadata": {},
   "source": [
    "# Урок 2."
   ]
  },
  {
   "cell_type": "markdown",
   "id": "0e9facfd",
   "metadata": {},
   "source": [
    "## Домашние задания"
   ]
  },
  {
   "cell_type": "markdown",
   "id": "f84ecc62",
   "metadata": {},
   "source": [
    "#### 1. \n",
    "Сгенерировать датасет при помощи `sklearn.datasets.make_regression` и обучить линейную модель при помощи градиентного спуска и  стохастического градиентного спуска. Построить графики среднеквадратичной ошибки (MSE) от числа итераций для обоих методов на одном рисунке, сделать выводы о разнице скорости сходимости каждого из методов."
   ]
  },
  {
   "cell_type": "code",
   "execution_count": 68,
   "id": "dd582b70",
   "metadata": {},
   "outputs": [],
   "source": [
    "import numpy as np\n",
    "from matplotlib import pyplot as plt\n",
    "import seaborn as sns\n",
    "from sklearn import datasets\n",
    "import pandas as pd\n",
    "import warnings\n",
    "warnings.filterwarnings(\"ignore\")\n",
    "%matplotlib inline\n",
    "plt.rcParams[\"figure.facecolor\"] = \"green\""
   ]
  },
  {
   "cell_type": "code",
   "execution_count": 69,
   "id": "e363a7df",
   "metadata": {},
   "outputs": [],
   "source": [
    "X, y, coef = datasets.make_regression(n_samples=2000,\n",
    "                                      n_features=6,\n",
    "                                      n_informative=6,\n",
    "                                      n_targets=1,\n",
    "                                      noise=12,\n",
    "                                      bias=20,\n",
    "                                      coef=True,\n",
    "                                      random_state=29)\n",
    "\n",
    "bias_feat = np.array([1] * len(X)).reshape(-1,1)\n",
    "X = np.concatenate((bias_feat, X), axis=1)\n",
    "true_weig = np.concatenate(([20], coef))"
   ]
  },
  {
   "cell_type": "code",
   "execution_count": 3,
   "id": "fc91fffa",
   "metadata": {},
   "outputs": [],
   "source": [
    "def mse_err(y, y_pred):\n",
    "    return (y-y_pred).T @ (y-y_pred) / len(y)"
   ]
  },
  {
   "cell_type": "code",
   "execution_count": 4,
   "id": "872fb582",
   "metadata": {},
   "outputs": [
    {
     "name": "stdout",
     "output_type": "stream",
     "text": [
      "Ошибка mse по \"истинным\" коэффициентам:=136.9436\n"
     ]
    }
   ],
   "source": [
    "print(f'Ошибка mse по \"истинным\" коэффициентам:={mse_err(y, X @ true_weig):.4f}')"
   ]
  },
  {
   "cell_type": "code",
   "execution_count": 5,
   "id": "2b600d01",
   "metadata": {},
   "outputs": [],
   "source": [
    "# frame = pd.DataFrame(np.concatenate((X[:,1:], y.reshape(-1,1)), axis=1), \\\n",
    "#                      columns=[\"feat1\", \"feat2\", \"feat3\", \"feat4\", \"feat5\", \"feat6\", \"targ\"])"
   ]
  },
  {
   "cell_type": "code",
   "execution_count": 6,
   "id": "19f2ca94",
   "metadata": {},
   "outputs": [],
   "source": [
    "# sns.pairplot(frame)"
   ]
  },
  {
   "cell_type": "markdown",
   "id": "cfa8d8a8",
   "metadata": {},
   "source": [
    "<font color=\"grey\">*ещё нужно стандартизацию данных сделать!*</font>\n",
    "\n",
    "Так как выбросов особенно не заметно, а так же видно, что признаки распределены нормально подойдет стандартизация признаков."
   ]
  },
  {
   "cell_type": "code",
   "execution_count": 7,
   "id": "d3875873",
   "metadata": {},
   "outputs": [],
   "source": [
    "def std_scaler(X):\n",
    "    \"\"\"Функция принимает, обрабатывает и возвращает 2-D arrays\"\"\"\n",
    "    \n",
    "    avrg = np.mean(X[:,1:], axis=0)\n",
    "    dev = np.std(X[:,1:], axis=0, ddof=1) # unbiased standard deviation\n",
    "    \n",
    "    X_ = (X[:, 1:] - avrg) / dev\n",
    "    X_std = np.column_stack((X[:,0], X_))\n",
    "    \n",
    "    return X_std"
   ]
  },
  {
   "cell_type": "code",
   "execution_count": 8,
   "id": "09273c2e",
   "metadata": {},
   "outputs": [],
   "source": [
    "def grad_descent(X, y, eta=1e-3, max_iters=1e5): #weig_dist_min=1e-6):\n",
    "    \"\"\"Regular gradient descent function\"\"\"\n",
    "\n",
    "    gd_res = []\n",
    "    \n",
    "    np.random.seed(9001)\n",
    "    m = len(X[0])\n",
    "    n = len(X)\n",
    "    w_prev = np.random.randn(m)\n",
    "    iter_num = 0\n",
    "    weig_dist = np.inf\n",
    "    err_prev = 0\n",
    "\n",
    "    while (iter_num <= max_iters): #& (weig_dist_min <= weig_dist):\n",
    "        y_pred = X @ w_prev.T\n",
    "        err = mse_err(y, y_pred)\n",
    "        \n",
    "#         err_neuv = mse_err(y, y_pred)\n",
    "        mse_diff = err_prev - err\n",
    "        if abs(mse_diff) < 1e-6:\n",
    "            pass #break\n",
    "        err_prev = err\n",
    "\n",
    "        w_neuv = w_prev - 2/n * eta * X.T @ (y_pred - y)\n",
    "        weig_dist = np.linalg.norm(w_prev - w_neuv, ord=2)\n",
    "        w_prev = w_neuv\n",
    "        iter_num += 1\n",
    "        if iter_num % 1e3 == 0:\n",
    "            gd_res.append([iter_num, err])\n",
    "        \n",
    "    print(f\"{iter_num}, {err:.4f}, {weig_dist}\")\n",
    "    return w_neuv, err, gd_res"
   ]
  },
  {
   "cell_type": "code",
   "execution_count": 9,
   "id": "e9ec335a",
   "metadata": {},
   "outputs": [
    {
     "name": "stdout",
     "output_type": "stream",
     "text": [
      "100001, 135.9492, 0.0\n"
     ]
    },
    {
     "data": {
      "text/plain": [
       "((array([23.53715732, 48.80953989, 76.4829416 , 16.46986324, 19.16583277,\n",
       "          4.95159465, 47.71471055]),\n",
       "  135.9492064144996,\n",
       "  [[1000, 331.62912746063785],\n",
       "   [2000, 139.38596723791724],\n",
       "   [3000, 136.01239691176406],\n",
       "   [4000, 135.9504258747643],\n",
       "   [5000, 135.94923110038474],\n",
       "   [6000, 135.94920693680558],\n",
       "   [7000, 135.94920642598356],\n",
       "   [8000, 135.9492064147602],\n",
       "   [9000, 135.94920641450562],\n",
       "   [10000, 135.94920641449974],\n",
       "   [11000, 135.9492064144996],\n",
       "   [12000, 135.9492064144996],\n",
       "   [13000, 135.9492064144996],\n",
       "   [14000, 135.9492064144996],\n",
       "   [15000, 135.94920641449957],\n",
       "   [16000, 135.94920641449957],\n",
       "   [17000, 135.9492064144996],\n",
       "   [18000, 135.9492064144996],\n",
       "   [19000, 135.9492064144996],\n",
       "   [20000, 135.9492064144996],\n",
       "   [21000, 135.9492064144996],\n",
       "   [22000, 135.9492064144996],\n",
       "   [23000, 135.9492064144996],\n",
       "   [24000, 135.9492064144996],\n",
       "   [25000, 135.9492064144996],\n",
       "   [26000, 135.9492064144996],\n",
       "   [27000, 135.9492064144996],\n",
       "   [28000, 135.9492064144996],\n",
       "   [29000, 135.9492064144996],\n",
       "   [30000, 135.9492064144996],\n",
       "   [31000, 135.9492064144996],\n",
       "   [32000, 135.9492064144996],\n",
       "   [33000, 135.9492064144996],\n",
       "   [34000, 135.9492064144996],\n",
       "   [35000, 135.9492064144996],\n",
       "   [36000, 135.9492064144996],\n",
       "   [37000, 135.9492064144996],\n",
       "   [38000, 135.9492064144996],\n",
       "   [39000, 135.9492064144996],\n",
       "   [40000, 135.9492064144996],\n",
       "   [41000, 135.9492064144996],\n",
       "   [42000, 135.9492064144996],\n",
       "   [43000, 135.9492064144996],\n",
       "   [44000, 135.9492064144996],\n",
       "   [45000, 135.9492064144996],\n",
       "   [46000, 135.9492064144996],\n",
       "   [47000, 135.9492064144996],\n",
       "   [48000, 135.9492064144996],\n",
       "   [49000, 135.9492064144996],\n",
       "   [50000, 135.9492064144996],\n",
       "   [51000, 135.9492064144996],\n",
       "   [52000, 135.9492064144996],\n",
       "   [53000, 135.9492064144996],\n",
       "   [54000, 135.9492064144996],\n",
       "   [55000, 135.9492064144996],\n",
       "   [56000, 135.9492064144996],\n",
       "   [57000, 135.9492064144996],\n",
       "   [58000, 135.9492064144996],\n",
       "   [59000, 135.9492064144996],\n",
       "   [60000, 135.9492064144996],\n",
       "   [61000, 135.9492064144996],\n",
       "   [62000, 135.9492064144996],\n",
       "   [63000, 135.9492064144996],\n",
       "   [64000, 135.9492064144996],\n",
       "   [65000, 135.9492064144996],\n",
       "   [66000, 135.9492064144996],\n",
       "   [67000, 135.9492064144996],\n",
       "   [68000, 135.9492064144996],\n",
       "   [69000, 135.9492064144996],\n",
       "   [70000, 135.9492064144996],\n",
       "   [71000, 135.9492064144996],\n",
       "   [72000, 135.9492064144996],\n",
       "   [73000, 135.9492064144996],\n",
       "   [74000, 135.9492064144996],\n",
       "   [75000, 135.9492064144996],\n",
       "   [76000, 135.9492064144996],\n",
       "   [77000, 135.9492064144996],\n",
       "   [78000, 135.9492064144996],\n",
       "   [79000, 135.9492064144996],\n",
       "   [80000, 135.9492064144996],\n",
       "   [81000, 135.9492064144996],\n",
       "   [82000, 135.9492064144996],\n",
       "   [83000, 135.9492064144996],\n",
       "   [84000, 135.9492064144996],\n",
       "   [85000, 135.9492064144996],\n",
       "   [86000, 135.9492064144996],\n",
       "   [87000, 135.9492064144996],\n",
       "   [88000, 135.9492064144996],\n",
       "   [89000, 135.9492064144996],\n",
       "   [90000, 135.9492064144996],\n",
       "   [91000, 135.9492064144996],\n",
       "   [92000, 135.9492064144996],\n",
       "   [93000, 135.9492064144996],\n",
       "   [94000, 135.9492064144996],\n",
       "   [95000, 135.9492064144996],\n",
       "   [96000, 135.9492064144996],\n",
       "   [97000, 135.9492064144996],\n",
       "   [98000, 135.9492064144996],\n",
       "   [99000, 135.9492064144996],\n",
       "   [100000, 135.9492064144996]]),\n",
       " array([20.        , 47.50615776, 77.10368102, 16.5132187 , 19.70451175,\n",
       "         4.88392107, 48.1021872 ]))"
      ]
     },
     "execution_count": 9,
     "metadata": {},
     "output_type": "execute_result"
    }
   ],
   "source": [
    "grad_descent(std_scaler(X), y, eta=1e-3), true_weig"
   ]
  },
  {
   "cell_type": "code",
   "execution_count": 18,
   "id": "154af3cb",
   "metadata": {},
   "outputs": [],
   "source": [
    "def stochastic_GD(X, y, eta=1e-6, max_iters=1e5): #, weig_dist_min=1e-6):\n",
    "    \n",
    "    sgd_res = []\n",
    "    \n",
    "#     np.random.seed(999)\n",
    "    m = len(X[0])\n",
    "    n = len(X)\n",
    "    w_prev = np.random.randn(m)\n",
    "    iter_num = 0\n",
    "    weig_dist = np.inf\n",
    "    err_prev = 0\n",
    "    \n",
    "    while (iter_num <= max_iters): #& (weig_dist_min <= weig_dist):\n",
    "        ind = np.random.randint(n)\n",
    "        y_pred = X[ind,:] @ w_prev.T\n",
    "        w_neuv = w_prev - 2 * eta * (X[ind,:] * (y_pred - y[ind]))\n",
    "        weig_dist = np.linalg.norm(w_neuv - w_prev, ord=2)\n",
    "        w_prev = w_neuv\n",
    "        iter_num += 1\n",
    "        err = mse_err(y, X @ w_prev)\n",
    "        \n",
    "        mse_diff = err_prev - err\n",
    "        if abs(mse_diff) < 1e-6:\n",
    "            pass #break\n",
    "        err_prev = err\n",
    "\n",
    "        \n",
    "        if iter_num % 1e3 == 0:\n",
    "            sgd_res.append([iter_num, err])\n",
    "#             print(f\"{iter_num}, {err:.4f}, {w_prev}, {weig_dist:.6f}\")\n",
    "    \n",
    "    print(f\"{iter_num}, ошибка:={err:.4f}\") #, дистанция: {weig_dist:.4f}, веса: {w_neuv}\")\n",
    "\n",
    "    return list(w_neuv), iter_num, err, eta, sgd_res"
   ]
  },
  {
   "cell_type": "code",
   "execution_count": 20,
   "id": "011cceab",
   "metadata": {},
   "outputs": [
    {
     "name": "stdout",
     "output_type": "stream",
     "text": [
      "100001, 135.9492, 0.0\n",
      "100001, ошибка:=136.9295\n"
     ]
    }
   ],
   "source": [
    "gd_res = np.array(grad_descent(std_scaler(X), y, eta=1e-3)[2])\n",
    "sgd_res = np.array(stochastic_GD(std_scaler(X), y, eta=1e-3)[4])"
   ]
  },
  {
   "cell_type": "code",
   "execution_count": 15,
   "id": "146e0452",
   "metadata": {},
   "outputs": [
    {
     "name": "stdout",
     "output_type": "stream",
     "text": [
      "2413, ошибка:=136.3829\n",
      "10077, ошибка:=138.3423\n",
      "5685, ошибка:=136.4466\n",
      "16770, ошибка:=136.3519\n",
      "5618, ошибка:=136.5987\n",
      "13773, ошибка:=136.5824\n",
      "3657, ошибка:=137.1423\n",
      "19648, ошибка:=137.4990\n",
      "6205, ошибка:=136.7203\n",
      "8595, ошибка:=136.2949\n",
      "6914, ошибка:=136.4602\n",
      "7672, ошибка:=136.3425\n",
      "2670, ошибка:=136.7551\n",
      "5023, ошибка:=136.9494\n",
      "4179, ошибка:=136.3336\n",
      "13057, ошибка:=136.6963\n",
      "3023, ошибка:=136.4095\n",
      "5521, ошибка:=136.5302\n",
      "7200, ошибка:=137.3999\n",
      "4552, ошибка:=136.4128\n",
      "10008, ошибка:=136.6578\n",
      "7962, ошибка:=136.7170\n",
      "2686, ошибка:=136.1148\n",
      "18163, ошибка:=136.7388\n"
     ]
    },
    {
     "data": {
      "image/png": "[encoded data removed]",
      "text/plain": [
       "<Figure size 864x648 with 1 Axes>"
      ]
     },
     "metadata": {},
     "output_type": "display_data"
    }
   ],
   "source": [
    "iters_errs_list = []\n",
    "for i in range(24):\n",
    "# sgd_res = np.array(stochastic_GD(std_scaler(X), y, eta=1e-3)[4])\n",
    "    iters_errs_list.append(stochastic_GD(std_scaler(X), y, eta=1e-3)[1:3])\n",
    "    \n",
    "iters_errs_arr = np.array(iters_errs_list)\n",
    "plt.figure(figsize=(12,9))\n",
    "plt.scatter(iters_errs_arr[:,0], iters_errs_arr[:,1], c=\"g\")\n",
    "plt.title(\"Сопоставление итераций и ошибки при данном уровне $\\eta$\")\n",
    "plt.xlabel(\"итерации\")\n",
    "plt.ylabel(\"mse\")\n",
    "plt.grid()\n",
    "plt.show()"
   ]
  },
  {
   "cell_type": "markdown",
   "id": "cab2302f",
   "metadata": {},
   "source": [
    "В ячейке выше я проводил серию реализаций (24) SGD для различных значений eta (их менял в ручную) и сравнивал как меняется устойчивость результатов которые выдавал алгоритм  SGD; Критерий останова был синтетический - по количеству итераций и по близости вычисленных весов на соседних итерациях.\n",
    "\n",
    "На основе этих экспериментов делал выводы об устойчивости метода SGD.\n",
    "\n",
    "В ячейке ниже средние, стандартные отклонения и медианы по результатам серии реализации SGD (для конкретного значения eta):"
   ]
  },
  {
   "cell_type": "code",
   "execution_count": 16,
   "id": "1da53467",
   "metadata": {},
   "outputs": [
    {
     "data": {
      "text/plain": [
       "(array([7961.29166667,  136.70330102]),\n",
       " array([4.88456227e+03, 4.75298671e-01]),\n",
       " array([6559.5       ,  136.59058958]))"
      ]
     },
     "execution_count": 16,
     "metadata": {},
     "output_type": "execute_result"
    }
   ],
   "source": [
    "# для eta=1e-3\n",
    "np.mean(iters_errs_arr, axis=0), np.std(iters_errs_arr, axis=0), np.median(iters_errs_arr, axis=0)"
   ]
  },
  {
   "cell_type": "code",
   "execution_count": 22,
   "id": "f1c65c24",
   "metadata": {},
   "outputs": [
    {
     "name": "stdout",
     "output_type": "stream",
     "text": [
      "SGD_algorithm: 139.3, 22.2907, 136.9\n",
      "GD_algorithm: 137.9, 19.4694, 135.9\n"
     ]
    }
   ],
   "source": [
    "# средняя, медиана и отклонение ошибки обоих алгоритмов для 1e5 количества итераций:\n",
    "print(f\"SGD_algorithm: {np.mean(sgd_res[:,1]):.1f}, {np.std(sgd_res[:,1]):.4f}, {np.median(sgd_res[:,1]):.1f}\")\n",
    "print(f\"GD_algorithm: {np.mean(gd_res[:,1]):.1f}, {np.std(gd_res[:,1]):.4f}, {np.median(gd_res[:,1]):.1f}\")"
   ]
  },
  {
   "cell_type": "code",
   "execution_count": 23,
   "id": "cbc7e31f",
   "metadata": {},
   "outputs": [
    {
     "data": {
      "image/png": "[encoded data removed]",
      "text/plain": [
       "<Figure size 864x576 with 1 Axes>"
      ]
     },
     "metadata": {},
     "output_type": "display_data"
    }
   ],
   "source": [
    "plt.figure(figsize=(12,8))\n",
    "plt.plot(sgd_res[1:,0], sgd_res[1:,1], color=\"g\", label=\"stochastic GD\")\n",
    "plt.plot(gd_res[1:,0], gd_res[1:,1], color=\"r\", label=\"Ordinary GD\")\n",
    "# plt.xscale(\"log\")\n",
    "plt.xlabel(\"iterations\")\n",
    "plt.ylabel(\"mse_error\")\n",
    "plt.legend()\n",
    "plt.grid()\n",
    "plt.show()"
   ]
  },
  {
   "cell_type": "markdown",
   "id": "ac9ffead",
   "metadata": {},
   "source": [
    "<font color=\"green\">Основной вывод: если правильно подобрать гиперпараметры, по алгоритм SGD даёт сопоставимые и приемлимые оценки параметров модели как и обычный GD, они более вариабельны, но достаточно устойчивы (опять же повторюсь если правльно подобрать гиперпараметры (шаг спуска)).</font>"
   ]
  },
  {
   "cell_type": "markdown",
   "id": "a8cef196",
   "metadata": {},
   "source": [
    "Вывод 1: при больших весах $\\eta$ (порядка 1e-2) стохастический метод показывает, меньшую, но приемлимую точность: mean(mse) = 146.9 (против 135.9 у обычного градиентного спуска), вокруг которой ошибка колеблется (std=8.5); Я сделал 1e5 количество итераций по умолчанию, но если сделать больше такая картина вряд ли изменится.\n",
    "\n",
    "---\n",
    "При $\\eta$=1e-3 большинство оценок приемлемого качества, но встречаются выбросы. Медианная оценка по серии (из 24 \"спусков\") - Ок.\n",
    "\n",
    "При $\\eta$=1e-4 алгоритм стохатического градиентного спуска выдает очень неточные оценки (err$\\approx$380 при истинном значении ошибки 136.9) и с большим отклонением ($\\approx$500), появляются большие выбросы (ошибка 2000). Можно сделать вывод, что при таком значении $\\eta$=1e4 оценки, которые выдает стохастическая модель никуда не годятся. Похоже, что оказывается число случайно когда у соседних весов оказывается разница ниже пороговой - тогда как алготитм еще не вышел на устойчивую траекторию.\n",
    "\n",
    "При $\\eta$=1e5, алгоритм по сути превращается в генератор случайных чисел, ровно никаких осмысленных оценок он не выдает.\n",
    "\n",
    "Главный вывод для стохастического алгоритма - в том, что очень трудно полагаться на метрики расстояния (весов), разницы (ошибки) для завершения итераций. И еще раз скажу непонятно как нужно подбирать $\\eta$ чтобы быть уверенным в оценках модели.\n",
    "\n",
    "Наибольшая точность стохастического алгоритма на моих данных достигается при значении $\\eta$=1e-3;\n",
    "\n",
    "Будем сравниать оценки параметров алгоритмов GD и SGD на этом значении шага."
   ]
  },
  {
   "cell_type": "markdown",
   "id": "bc50e74f",
   "metadata": {},
   "source": [
    "Как ведёт себя обычный градиентный спуск: при $\\eta$=1e-2 - ему требуется 496 итераций чтобы получить прирост ошибки mse не более 1e-6; остальные итерации избыточны. Для шага $\\eta$=1e-3 алгоритму обычного GD потребовалось порядка 4400 итераций, чтобы точность ошибки перестала увеличиваться более чем 1e-6 за один шаг. Для шага $\\eta$=1e-4 потребовалось $\\approx$ 38000 повторов цикла. Для $\\eta$=1e-5 алгоритму обычного градиентного спуска не хватило 1e5 итераций чтобы достичь приемлимой точности однако картина ясная: <font color=\"red\">__во всех этих случая алгоритм (GD) плавно и целенаправленно двигается к минимуму ошибки; его ничего не сбивает с пути, алгоритм выдает устойчивые метрики и оценки.__</font>"
   ]
  },
  {
   "cell_type": "code",
   "execution_count": 25,
   "id": "e001b17b",
   "metadata": {},
   "outputs": [
    {
     "data": {
      "text/plain": [
       "[20.0,\n",
       " 47.50615775756908,\n",
       " 77.10368102056397,\n",
       " 16.51321869668676,\n",
       " 19.70451175173077,\n",
       " 4.883921071468899,\n",
       " 48.10218720434786]"
      ]
     },
     "execution_count": 25,
     "metadata": {},
     "output_type": "execute_result"
    }
   ],
   "source": [
    "list(true_weig)"
   ]
  },
  {
   "cell_type": "code",
   "execution_count": 26,
   "id": "d064e6da",
   "metadata": {},
   "outputs": [
    {
     "name": "stdout",
     "output_type": "stream",
     "text": [
      "100001, ошибка:=141.6734\n",
      "100001, ошибка:=136.8431\n",
      "100001, ошибка:=136.0418\n",
      "100001, ошибка:=341.0219\n"
     ]
    }
   ],
   "source": [
    "eta_list = np.logspace(-2, -5, num=4)\n",
    "results = []\n",
    "for eta in eta_list:\n",
    "    results.append(stochastic_GD(std_scaler(X), y, eta=eta))"
   ]
  },
  {
   "cell_type": "code",
   "execution_count": 27,
   "id": "ab24a38c",
   "metadata": {},
   "outputs": [
    {
     "data": {
      "text/plain": [
       "array([[100001, 141.6733526880124, 0.01],\n",
       "       [100001, 136.8430713411615, 0.001],\n",
       "       [100001, 136.0417931885644, 0.0001],\n",
       "       [100001, 341.02193537145735, 1e-05]], dtype=object)"
      ]
     },
     "execution_count": 27,
     "metadata": {},
     "output_type": "execute_result"
    }
   ],
   "source": [
    "r = np.array(results)\n",
    "r[:,1:4]"
   ]
  },
  {
   "cell_type": "markdown",
   "id": "24837aef",
   "metadata": {},
   "source": [
    "пришось отключить останов по близости веткоров весов (количество повторений везде сравнялось максимально заданному)\n",
    "\n",
    "В ячейке ниже попытался продемонстрировать зависимость точности оценки от выбранного значения eta.\n",
    "(ничего интересного((( )"
   ]
  },
  {
   "cell_type": "code",
   "execution_count": 32,
   "id": "ba0c8d2b",
   "metadata": {},
   "outputs": [
    {
     "data": {
      "image/png": "[encoded data removed]",
      "text/plain": [
       "<Figure size 864x432 with 1 Axes>"
      ]
     },
     "metadata": {},
     "output_type": "display_data"
    }
   ],
   "source": [
    "plt.figure(figsize=(12, 6))\n",
    "plt.xscale(\"log\")\n",
    "# plt.yscale(\"log\")\n",
    "\n",
    "plt.plot(r[:,3], r[:,2], label=\"mse\")\n",
    "# plt.plot(r[:,3], r[:,1], label=\"iter_num\")\n",
    "plt.xlabel(\"шаг $\\eta$\")\n",
    "plt.grid()\n",
    "plt.legend()\n",
    "\n",
    "plt.show()"
   ]
  },
  {
   "cell_type": "markdown",
   "id": "346767ad",
   "metadata": {},
   "source": [
    "Сразу хочу записать интересный вывод, который сделал пока делал стохастический градиентный спуск.\n",
    "Результат, который выдает метод в зависимости от шага $\\eta$ очень нестабильный. Т.е. если за критерий останова брать минимум расстояния между векторами весов на соседних итерациях, то стохастический метод на каждой градации шага выдает какой-то результат и заканчивает свою работу штатным образом (т.е. мы добиваемся требуемой близости весов), однако полученные параметры модели и ошибка далеки от оптимальных.\n",
    "\n",
    "В то время как обычный градиентый спуск демонстрирует совсем другое поведение. В зависимости от шага алгоритму нужно разное колиество итераций, но он выдает <s>годные</s> значимые результаты, на которые можно положиться.\n",
    "\n",
    "А на стохастический метод трудно положиться. Т.е. сейчас я знаю, как выглядят истинные веса и ошибка модели. А если я не знаю \"истинных\" коэффициентов - будет очень трудно быть уверенным, что я получил релевантные оценки параментов модели.\n",
    "\n",
    "Ещё раз неприятный сюрприз стохастического метода поджидает, если пользоваться критерием останова на основе близости векторов весов на соседних итерациях - равно как и на основе близости значений ошбики mse на соседних итерациях. Если задавать критерием останова количество итераций, то поведение стохастического метода предсказуемое, ожидаемое и \"похожее\" на обычный градиентныый спуск (с ньюансами описанными выше). Другой вопрос как подобрать заранее необходимое количество итераций и параметр eta? GridSearch..."
   ]
  },
  {
   "cell_type": "markdown",
   "id": "a5738479",
   "metadata": {},
   "source": [
    "#### 2. \n",
    "[\\*] Добавить в алгоритм градиентного спуска L1 регуляризацию. Сравнить влияние коэффициентов регуляризации L1 и L2 на величину весов для примера из урока (лучше графически).  "
   ]
  },
  {
   "cell_type": "code",
   "execution_count": 111,
   "id": "2d4d56f0",
   "metadata": {
    "colab": {},
    "colab_type": "code",
    "id": "_n6il-AZaLuA"
   },
   "outputs": [],
   "source": [
    "# К признаку стажа добавим новые признаки\n",
    "X = np.array([[1, 1, 1, 1, 1, 1, 1, 1, 1, 1],\n",
    "              [1, 1, 2, 1, 3, 0, 5, 10, 1, 2],  # стаж репетитора\n",
    "              [500, 700, 750, 600, 1450,        # средняя стоимость занятия\n",
    "               800, 1500, 2000, 450, 1000],\n",
    "              [21, 25, 27, 20, 25, 18, 35, 60, 20, 30]]).T  # возраст репетитора\n",
    "               \n",
    "y = [45, 55, 50, 59, 65, 35, 75, 80, 50, 60]    # средний балл ЕГЭ (целевая переменная)"
   ]
  },
  {
   "cell_type": "code",
   "execution_count": 112,
   "id": "fac89c87",
   "metadata": {},
   "outputs": [],
   "source": [
    "X_std = std_scaler(X)\n",
    "# X_std"
   ]
  },
  {
   "cell_type": "markdown",
   "id": "a3067c32",
   "metadata": {},
   "source": [
    "Что такое производная от нормы Евклида? Как мы выяснили на уроке это удвоенный вектор состоящий из коэфициентов (координат) вектора весов, т.е. это: $2\\cdot w = 2[w_0, w_1, \\cdots, w_n]$.\n",
    "\n",
    "Что же тогда градиент от L1-нормы? Модуль всюду непрерывная функция, но недифференцируемая в нуле. Следовательно функцию производной от модуля нужно доопределять. Обычно для этого используется функция `sgn()`;\n",
    "\n",
    "В нашем случае градиент от L1-нормы будет вектор состоящий из элементов бинарного множества: $\\{-1,+1\\}$, т.е. из единиц или минус-единиц. Есть еще ньюанс с нулем, только вот на практике точное равенство нулю это скорее случайность - обычно в практическом смысле 0 это очень малое число. Не уверен, что нужно загоняться с нулем сейчас - возможно, конечно, это как-то может сыграть, но просто отметим это для себя здесь.\n",
    "\n",
    "Для вычисления вектора градиента для L1-нормы воспользуемся выражением для генератора списков (list comprehensive)."
   ]
  },
  {
   "cell_type": "markdown",
   "id": "18ac2772",
   "metadata": {},
   "source": [
    "```\n",
    "def sgn_func(vec):\n",
    "    derivative_vec = []\n",
    "    for v in vec:\n",
    "        if v > 0:\n",
    "            derivative_vec.append(1)\n",
    "        else:\n",
    "            derivative_vec.append(-1)\n",
    " ```\n",
    " \n",
    "[Генераторы циклов с условием](https://pyprog.pro/python/py/list/list_generat.html)\n",
    "`[1 if v > 0 else -1 for v in vec]`"
   ]
  },
  {
   "cell_type": "code",
   "execution_count": 113,
   "id": "99677ed7",
   "metadata": {},
   "outputs": [],
   "source": [
    "def GD_lasso_reg1(X, y, iterations=1e3, eta=1e-3, lambda_=1e-8):\n",
    "    \"\"\"Обычный градиентный спуск с L1 регуляризацией\"\"\"\n",
    "    \n",
    "    np.random.seed(5892)\n",
    "    m = X.shape[1]\n",
    "    n = X.shape[0]\n",
    "    w_prev = np.random.rand(m)\n",
    "    iter_num = 0\n",
    "    \n",
    "    while iter_num < iterations:\n",
    "        y_pred = X @ w_prev.T\n",
    "        err = mse_err(y, y_pred)\n",
    "        w_neuv = w_prev - eta * (2/n * X.T @ (y_pred - y) + \\\n",
    "                    [lambda_ * 1. if v > 0 else lambda_ * -1. for v in w_prev])\n",
    "        iter_num += 1\n",
    "        w_prev = w_neuv\n",
    "        \n",
    "#     print(f\"{w_neuv}, {err:.1f}\")\n",
    "    return w_prev, err"
   ]
  },
  {
   "cell_type": "code",
   "execution_count": 114,
   "id": "95d75257",
   "metadata": {},
   "outputs": [
    {
     "name": "stdout",
     "output_type": "stream",
     "text": [
      "[49.72536506  4.33605141  4.53717425  2.96942125], 104.3\n"
     ]
    },
    {
     "data": {
      "text/plain": [
       "(array([49.72536506,  4.33605141,  4.53717425,  2.96942125]), 104.296581690409)"
      ]
     },
     "execution_count": 114,
     "metadata": {},
     "output_type": "execute_result"
    }
   ],
   "source": [
    "GD_lasso_reg1(X_std, y)"
   ]
  },
  {
   "cell_type": "code",
   "execution_count": 121,
   "id": "11dfdb6c",
   "metadata": {},
   "outputs": [
    {
     "name": "stdout",
     "output_type": "stream",
     "text": [
      "[57.3999499   7.08885127  5.04504756 -0.26233268], 43.0\n",
      "[57.39991742  7.08880955  5.04500129 -0.26225801], 43.0\n",
      "[57.39986384  7.08874073  5.04492495 -0.26213485], 43.0\n",
      "[57.39977544  7.0886272   5.04479902 -0.26193167], 43.0\n",
      "[57.39962962  7.08843991  5.04459128 -0.26159649], 43.0\n",
      "[57.39938907  7.08813095  5.04424858 -0.26104357], 43.0\n",
      "[57.39899224  7.08762129  5.04368325 -0.26013144], 43.0\n",
      "[57.39833761  7.08678051  5.04275066 -0.25862675], 43.0\n",
      "[57.3972577   7.08539353  5.0412122  -0.25614455], 43.0\n",
      "[57.39547623  7.08304113  5.03863497 -0.25194515], 43.0\n",
      "[57.39253743  7.07922487  5.03442276 -0.24512225], 43.0\n",
      "[57.38768944  7.07275413  5.0273675  -0.23358255], 43.0\n",
      "[57.37969197  7.06167623  5.01548568 -0.21389439], 43.0\n",
      "[57.36649897  7.04302466  4.99566205 -0.18081219], 43.0\n",
      "[57.34473515  7.01005418  4.96166546 -0.12271943], 43.0\n",
      "[ 5.73088325e+01  6.95618307e+00  4.90606218e+00 -2.79257183e-02], 43.1\n",
      "[ 5.72496058e+01  6.92283265e+00  4.85485075e+00 -3.56732050e-03], 43.1\n",
      "[ 5.71519025e+01  6.88054480e+00  4.78138875e+00 -2.00478877e-03], 43.2\n",
      "[5.69907265e+01 6.80940646e+00 4.66158456e+00 6.39280935e-03], 43.4\n",
      "[ 5.67248429e+01  6.68844541e+00  4.46806320e+00 -2.39640786e-03], 44.1\n",
      "[5.62862284e+01 6.47909339e+00 4.15632580e+00 2.58112358e-02], 45.7\n",
      "[55.56266894  6.11681943  3.66218961  0.05702867], 50.3\n",
      "[5.43690504e+01 5.48015430e+00 2.88033608e+00 2.82336245e-02], 63.1\n",
      "[52.39999991  4.37189689  1.65124321  0.10520759], 97.1\n"
     ]
    }
   ],
   "source": [
    "lamb_list = []\n",
    "weig_list = []\n",
    "errs_list = []\n",
    "\n",
    "for lambda_ in np.logspace(-4, 1, 24):\n",
    "    lamb_list.append(lambda_)\n",
    "    w_, e_ = GD_lasso_reg1(X_std, y, lambda_=lambda_, eta=1e-2)\n",
    "    weig_list.append(w_)\n",
    "    errs_list.append(e_)\n",
    "    \n",
    "lamb_arr = np.array(lamb_list)\n",
    "weig_arr = np.array(weig_list)\n",
    "errs_arr = np.array(errs_list)"
   ]
  },
  {
   "cell_type": "markdown",
   "id": "bb4dc68f",
   "metadata": {},
   "source": [
    "неверно вызвал функция `plt.xlabel()` пришлось перезагружать функцию.\n",
    "\n",
    "```\n",
    "import matplotlib.pyplot as plt\n",
    "from importlib import reload\n",
    "plt=reload(plt)```"
   ]
  },
  {
   "cell_type": "code",
   "execution_count": 123,
   "id": "fc957188",
   "metadata": {},
   "outputs": [
    {
     "data": {
      "image/png": "[encoded data removed]",
      "text/plain": [
       "<Figure size 864x576 with 1 Axes>"
      ]
     },
     "metadata": {},
     "output_type": "display_data"
    }
   ],
   "source": [
    "plt.rcParams[\"font.size\"] = 13\n",
    "plt.figure(figsize=(12,8))\n",
    "plt.xscale(\"log\")\n",
    "plt.plot(lamb_arr, weig_arr[:,1:], label=\"weights\")\n",
    "plt.xlabel(\"lambda_\")\n",
    "plt.ylabel('weights')\n",
    "plt.legend()\n",
    "plt.grid()\n",
    "plt.show()"
   ]
  },
  {
   "cell_type": "code",
   "execution_count": 124,
   "id": "ad0880f6",
   "metadata": {},
   "outputs": [
    {
     "data": {
      "image/png": "[encoded data removed]",
      "text/plain": [
       "<Figure size 864x576 with 1 Axes>"
      ]
     },
     "metadata": {},
     "output_type": "display_data"
    }
   ],
   "source": [
    "plt.figure(figsize=(12,8))\n",
    "plt.xscale(\"log\")\n",
    "plt.plot(lamb_arr, errs_arr, label=\"mse_error_values\")\n",
    "plt.xlabel(\"lambda_\")\n",
    "plt.ylabel(\"mse_error\")\n",
    "plt.legend()\n",
    "plt.grid()\n",
    "plt.show()"
   ]
  },
  {
   "cell_type": "markdown",
   "id": "57892a04",
   "metadata": {},
   "source": [
    "<font color=\"blue\" size=3>Вывод напрашивается довольно простой: с ростом коэффицента регуляризации $\\lambda$ веса уменьшаются (стремятся к нулю), ошибка увеличиватся. При $\\eta=.01$ этот эффект ещё более выражен.</font>\n",
    "\n",
    "То различие между этими вариантами регуляризации о которых говорится в теоретической литературе и о которых мы говорили на уроке - а именно, что L1-регуляразация в отличии от L2 зануляет некоторые веса - на этих данных, в этом примере неочевидно такая тенденция, во всяком случае не бросается в глаза)))."
   ]
  }
 ],
 "metadata": {
  "kernelspec": {
   "display_name": "Python 3 (ipykernel)",
   "language": "python",
   "name": "python3"
  },
  "language_info": {
   "codemirror_mode": {
    "name": "ipython",
    "version": 3
   },
   "file_extension": ".py",
   "mimetype": "text/x-python",
   "name": "python",
   "nbconvert_exporter": "python",
   "pygments_lexer": "ipython3",
   "version": "3.9.4"
  }
 },
 "nbformat": 4,
 "nbformat_minor": 5
}
