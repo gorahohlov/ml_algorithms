{
 "cells": [
  {
   "cell_type": "code",
   "execution_count": 1,
   "id": "27cc1be9",
   "metadata": {},
   "outputs": [],
   "source": [
    "import numpy as np\n",
    "from matplotlib import pyplot as plt\n",
    "\n",
    "%matplotlib inline\n",
    "\n",
    "import warnings\n",
    "warnings.filterwarnings(\"ignore\")\n",
    "\n",
    "import random\n",
    "from matplotlib.colors import ListedColormap"
   ]
  },
  {
   "cell_type": "code",
   "execution_count": 2,
   "id": "2050cfd7",
   "metadata": {},
   "outputs": [],
   "source": [
    "from sklearn import datasets\n",
    "from sklearn.model_selection import train_test_split\n",
    "\n",
    "X_data, y_labels = datasets.make_classification(n_features=2, n_informative=2, \n",
    "                                                n_classes=2, n_redundant=0, \n",
    "                                                n_clusters_per_class=1, \n",
    "                                                random_state=5)\n",
    "\n",
    "train_data, test_data, train_labels, test_labels = train_test_split(X_data, \n",
    "                                                                    y_labels, \n",
    "                                                                    test_size = 0.3,\n",
    "                                                                    random_state = 1)"
   ]
  },
  {
   "cell_type": "markdown",
   "id": "7252dabb",
   "metadata": {},
   "source": [
    "#### 1. В коде из методички реализуйте один или несколько критериев останова: \n",
    "- минимальное количество объектов в листе (`min_leaf`), \n",
    "- максимальная глубина дерева, \n",
    "- максимальное количество листьев и т.д. \n",
    "\n",
    "Добавьте эти критерии в параметры функции `build_tree` и проверьте ее работоспособность с помощью визуализации дерева (функция `print_tree()`). "
   ]
  },
  {
   "cell_type": "code",
   "execution_count": 3,
   "id": "67780c7a",
   "metadata": {},
   "outputs": [],
   "source": [
    "def build_tree_stop_criteria(data, labels, min_samples_leaf=1, max_depth=6, max_leaf_nodes=None):\n",
    "    \n",
    "    \"\"\"Итоговая модифицированная функция построения дерева выглядит так.\n",
    "       Я проверял её на модели из урока. Работает корректно.\n",
    "       Я не стал заморачиваться с критерием 'максимального количества листьев в дереве'.\n",
    "       Чтобы довести работу функции с этим критерием до ума потребовалось бы много времени + неинтересно. \n",
    "       Я лучше потрачу время на остальные задания)))\n",
    "    \"\"\"\n",
    "    \n",
    "    \n",
    "    min_leaf = min_samples_leaf\n",
    "    quality, t, index = find_best_split(data, labels, min_samples_leaf=min_leaf)\n",
    "\n",
    "    if (t is None) or (index is None):\n",
    "        return Leaf(data, labels)\n",
    "\n",
    "    true_data, false_data, true_labels, false_labels = split(data, labels, index, t)\n",
    "\n",
    "    if (len(true_data) <= min_samples_leaf) or (len(false_data) <= min_samples_leaf):\n",
    "        return Leaf(data, labels)\n",
    "\n",
    "    if max_depth is not None:\n",
    "        if max_depth != 0:\n",
    "            max_d = max_depth - 1\n",
    "            true_branch = build_tree_stop_criteria(true_data, true_labels, \n",
    "                                               min_samples_leaf=min_leaf, max_depth=max_d)\n",
    "            false_branch = build_tree_stop_criteria(false_data, false_labels, \n",
    "                                                min_samples_leaf=min_leaf, max_depth=max_d)\n",
    "        else:\n",
    "            return Leaf(data, labels)\n",
    "    else:\n",
    "        true_branch = build_tree_stop_criteria(true_data, true_labels, min_samples_leaf=min_leaf)\n",
    "        false_branch = build_tree_stop_criteria(false_data, false_labels, min_samples_leaf=min_leaf)\n",
    "\n",
    "    return Node(index, t, true_branch, false_branch)"
   ]
  },
  {
   "cell_type": "markdown",
   "id": "77789d7a",
   "metadata": {},
   "source": [
    "Я попробовал применить в качестве критерия останова максимальное количество листьев в дереве `max_leaf_nodes`, но решение мне показалось довольно громоздким: нужно или заранее (до построения дерева) знать сколько листьев будет чтобы что-то предпринять или же нужно будет после построения дерева посчитать сколько листьев получилось и образать лишние, у которых метрики самые плохие - это тоже нужно заморочиться.\n",
    "\n",
    "Однако есть одна мысль. Поскольку каждая ветка и каждый узел заканчивается листом и учитывая, что наше дерево строиться бинарным делением - количество листов зависим от количество нодов и, следоватеьно, от количества уровней. Максимальное количество листьев при $n$ уровнях равно $2^n$, но может быть и меньше, т.к. некоторые ветки могут обрываться не доходя до самого нижнего уровня.\n",
    "\n",
    "Следовательно можно попытаться учитывать количество листьев при построении нового уровня. Позже к этому вернусь.\n",
    "\n",
    "---\n",
    "не буду использовать этот критерий."
   ]
  },
  {
   "cell_type": "markdown",
   "id": "008d881e",
   "metadata": {},
   "source": [
    "##### Ниже - Модель (все функции в одной ячейке) взятая из урока для проверки корректности работы новой функции: `build_tree_stop_criteria`"
   ]
  },
  {
   "cell_type": "code",
   "execution_count": 4,
   "id": "563748c0",
   "metadata": {},
   "outputs": [],
   "source": [
    "class Node:\n",
    "    def __init__(self, index, t, true_branch, false_branch):\n",
    "        self.index = index\n",
    "        self.t = t\n",
    "        self.true_branch = true_branch\n",
    "        self.false_branch = false_branch\n",
    "        \n",
    "\n",
    "class Leaf:\n",
    "    def __init__(self, data, labels):\n",
    "        self.data = data\n",
    "        self.labels = labels\n",
    "        self.prediction = self.predict()\n",
    "    def predict(self):\n",
    "        classes = {}\n",
    "        for label in self.labels:\n",
    "            if label not in classes:\n",
    "                classes[label] = 0 \n",
    "            classes[label] += 1\n",
    "        prediction = max(classes, key=classes.get)\n",
    "        return prediction\n",
    "\n",
    "    \n",
    "def gini(labels):\n",
    "    classes = {}\n",
    "    for label in labels:\n",
    "        if label not in classes:\n",
    "            classes[label] = 0\n",
    "        classes[label] += 1\n",
    "    impurity = 1\n",
    "    for label in classes:\n",
    "        p = classes[label] / len(labels)\n",
    "        impurity -= p ** 2\n",
    "    return impurity\n",
    "\n",
    "\n",
    "def quality(left_labels, right_labels, current_gini):\n",
    "    p = float(left_labels.shape[0]) / (left_labels.shape[0] + right_labels.shape[0])\n",
    "    return current_gini - p * gini(left_labels) - (1 - p) * gini(right_labels)\n",
    "\n",
    "\n",
    "def split(data, labels, index, t):\n",
    "    left = np.where(data[:, index] <= t)\n",
    "    right = np.where(data[:, index] > t)\n",
    "    true_data = data[left]\n",
    "    false_data = data[right]\n",
    "    true_labels = labels[left]\n",
    "    false_labels = labels[right]\n",
    "    return true_data, false_data, true_labels, false_labels\n",
    "\n",
    "\n",
    "def find_best_split(data, labels, min_samples_leaf=5):\n",
    "    min_leaf = min_samples_leaf\n",
    "    current_gini = gini(labels)\n",
    "    best_quality = 0\n",
    "    best_t = None\n",
    "    best_index = None\n",
    "    n_features = data.shape[1]\n",
    "    for index in range(n_features):\n",
    "        t_values = np.unique([row[index] for row in data])\n",
    "        for t in t_values:\n",
    "            true_data, false_data, true_labels, false_labels = split(data, labels, index, t)\n",
    "            if len(true_data) < min_leaf or len(false_data) < min_leaf:\n",
    "                continue\n",
    "            current_quality = quality(true_labels, false_labels, current_gini)\n",
    "            if current_quality > best_quality:\n",
    "                best_quality, best_t, best_index = current_quality, t, index\n",
    "    return best_quality, best_t, best_index"
   ]
  },
  {
   "cell_type": "code",
   "execution_count": 5,
   "id": "d1d8a964",
   "metadata": {},
   "outputs": [],
   "source": [
    "class ColorText:\n",
    "    PURPLE = '\\033[1;35;48m'\n",
    "    CYAN = '\\033[1;36;48m'\n",
    "    BOLD = '\\033[1;39;48m'\n",
    "    GREEN = '\\033[1;34;48m'\n",
    "    BLUE = '\\033[1;44;48m'\n",
    "    ORANGE = '\\033[1;32;48m'\n",
    "    YELLOW = '\\033[1;33;48m'\n",
    "    RED = '\\033[1;31;48m'\n",
    "    BLACK = '\\033[1;30;48m'\n",
    "    UNDERLINE = '\\033[1;37;48m'\n",
    "    END = '\\033[1;37;0m'\n",
    "\n",
    "def print_tree(node, spacing=\"\"):\n",
    "    if isinstance(node, Leaf):\n",
    "        print(ColorText.ORANGE + spacing + ' ЛИСТ' \n",
    "                  + ': прогноз = ' + str(node.prediction) \n",
    "                  + ', объектов = ' + str(len(node.labels)) \n",
    "                  + ColorText.END)\n",
    "        return\n",
    "    print(ColorText.GREEN + spacing + 'УЗЕЛ'  \n",
    "              + ': индекс = ' + str(node.index) \n",
    "              + ', порог = ' + str(round(node.t, 2))\n",
    "              + ColorText.END)\n",
    "    print (spacing + '--> Левая ветка:')\n",
    "    print_tree(node.true_branch, spacing + \"   \")\n",
    "    print (spacing + '--> Правая ветка:')\n",
    "    print_tree(node.false_branch, spacing + \"   \")"
   ]
  },
  {
   "cell_type": "code",
   "execution_count": 6,
   "id": "65644c3c",
   "metadata": {},
   "outputs": [
    {
     "name": "stdout",
     "output_type": "stream",
     "text": [
      "\u001b[1;34;48mУЗЕЛ: индекс = 0, порог = 0.16\u001b[1;37;0m\n",
      "--> Левая ветка:\n",
      "\u001b[1;34;48m   УЗЕЛ: индекс = 1, порог = -1.52\u001b[1;37;0m\n",
      "   --> Левая ветка:\n",
      "\u001b[1;32;48m       ЛИСТ: прогноз = 0, объектов = 12\u001b[1;37;0m\n",
      "   --> Правая ветка:\n",
      "\u001b[1;32;48m       ЛИСТ: прогноз = 0, объектов = 28\u001b[1;37;0m\n",
      "--> Правая ветка:\n",
      "\u001b[1;32;48m    ЛИСТ: прогноз = 1, объектов = 30\u001b[1;37;0m\n"
     ]
    }
   ],
   "source": [
    "# строим дерево, визуализируем его и проверяем корректность работы.\n",
    "my_tree = build_tree_stop_criteria(train_data, train_labels, \n",
    "                               min_samples_leaf=10, max_depth=6, max_leaf_nodes=None)\n",
    "print_tree(my_tree)"
   ]
  },
  {
   "cell_type": "markdown",
   "id": "a9b46e49",
   "metadata": {},
   "source": [
    "Все работает корректно."
   ]
  },
  {
   "cell_type": "markdown",
   "id": "c58080da",
   "metadata": {},
   "source": [
    "### 2. (\\*) Для задачи классификации обучите дерево решений с использованием критериев разбиения Джини и Энтропия. \n",
    "Сравните качество классификации, сделайте выводы."
   ]
  },
  {
   "cell_type": "markdown",
   "id": "ede48426",
   "metadata": {},
   "source": [
    "#### Ниже (в рамках второго задания) пытаюсь построить ООП-модель на базе функций использованных на уроке."
   ]
  },
  {
   "cell_type": "raw",
   "id": "97572e4e",
   "metadata": {},
   "source": [
    "# смотрел как устроены 'под капотом' классы и методы sklearn-овского дерева, чтобы взять за образец.\n",
    "\n",
    "from sklearn.tree import DecisionTreeClassifier\n",
    "cls = DecisionTreeClassifier??\n",
    "cls.fit??"
   ]
  },
  {
   "cell_type": "markdown",
   "id": "077647e6",
   "metadata": {},
   "source": [
    "### Модель в ООП-стиле."
   ]
  },
  {
   "cell_type": "code",
   "execution_count": 7,
   "id": "97dfd219",
   "metadata": {},
   "outputs": [],
   "source": [
    "class my_DecisionTreeClassifier:\n",
    "    \n",
    "    def __init__(self, criterion=\"gini\", min_samples_leaf=1, max_leaf_nodes=None):\n",
    "        self.criterion = criterion\n",
    "        self.min_samples_leaf = min_samples_leaf\n",
    "        self.max_leaf_nodes = max_leaf_nodes\n",
    "        \n",
    "    def fit(self, data, labels, max_depth=None):\n",
    "        self.max_depth = max_depth\n",
    "        quality, t, index = Node.find_best_split(self, data, labels)\n",
    "        if (t is None) or (index is None):\n",
    "            return Leaf(data, labels)\n",
    "        true_data, false_data, true_labels, false_labels = Node.split(data, labels, index, t)\n",
    "        if (len(true_data) <= self.min_samples_leaf) or (len(false_data) <= self.min_samples_leaf):\n",
    "            return Leaf(data, labels)\n",
    "        if max_depth is not None:\n",
    "            if max_depth != 0:\n",
    "                max_d = max_depth - 1\n",
    "                true_branch = my_DecisionTreeClassifier.fit(self, true_data, true_labels, \n",
    "                                                            max_depth=max_d)\n",
    "                false_branch = my_DecisionTreeClassifier.fit(self, false_data, false_labels, \n",
    "                                                             max_depth=max_d)\n",
    "            else:\n",
    "                return Leaf(data, labels)\n",
    "        else:\n",
    "            true_branch = my_DecisionTreeClassifier.fit(self, true_data, true_labels)\n",
    "            false_branch = my_DecisionTreeClassifier.fit(self, false_data, false_labels)\n",
    "        self.dtree = Node(index, t, true_branch, false_branch)\n",
    "        # т.е. метод fit() возвращает атрибут объекта classifier (экземпляра класса \n",
    "        # my_DecisionTreeClassifier) содержащий обученный экземпляр дерева (объекта класса Node),\n",
    "        # т.е. обученное дерево.\n",
    "        return self.dtree\n",
    "    \n",
    "    @staticmethod\n",
    "    def classify_obj(obj, node):\n",
    "        if isinstance(node, Leaf):\n",
    "            answer = node.prediction\n",
    "            return answer\n",
    "        if obj[node.index] <= node.t:\n",
    "            return my_DecisionTreeClassifier.classify_obj(obj, node.true_branch)\n",
    "        else:\n",
    "            return my_DecisionTreeClassifier.classify_obj(obj, node.false_branch)\n",
    "    \n",
    "    def labels_predict(self, X):\n",
    "        pred_vec = []\n",
    "        for obj in X:\n",
    "            pred_val = my_DecisionTreeClassifier.classify_obj(obj, self.dtree)\n",
    "            pred_vec.append(pred_val)\n",
    "        return pred_vec\n",
    "    \n",
    "######    \n",
    "class Leaf:\n",
    "    def __init__(self, data, labels):\n",
    "        self.data = data\n",
    "        self.labels = labels\n",
    "        self.prediction = self.predict()\n",
    "    def predict(self):\n",
    "        classes = {}\n",
    "        for label in self.labels:\n",
    "            if label not in classes:\n",
    "                classes[label] = 0 \n",
    "            classes[label] += 1\n",
    "        prediction = max(classes, key=classes.get)\n",
    "        return prediction\n",
    "    \n",
    "######    \n",
    "class Node:\n",
    "    def __init__(self, index, t, true_branch, false_branch):\n",
    "        self.index = index\n",
    "        self.t = t\n",
    "        self.true_branch = true_branch\n",
    "        self.false_branch = false_branch\n",
    "\n",
    "    @staticmethod\n",
    "    def gini(labels):\n",
    "        classes = {}\n",
    "        for label in labels:\n",
    "            if label not in classes:\n",
    "                classes[label] = 0\n",
    "            classes[label] += 1\n",
    "        impurity = 1\n",
    "        for label in classes:\n",
    "            p = classes[label] / len(labels)\n",
    "            impurity -= p ** 2\n",
    "        return impurity\n",
    "    \n",
    "    @staticmethod\n",
    "    def entropy(labels):\n",
    "        classes = {}\n",
    "        for label in labels:\n",
    "            if label not in classes:\n",
    "                classes[label] = 0\n",
    "            classes[label] += 1\n",
    "        entropy_index = 0\n",
    "        for label in classes:\n",
    "            p = classes[label] / len(labels)\n",
    "            entropy_index -= 0 if p == 0 else p*np.log2(p)\n",
    "        return entropy_index\n",
    "\n",
    "    @staticmethod\n",
    "    def quality(left_labels, right_labels, criterion, current_criteria):\n",
    "        weig = float(left_labels.shape[0]) / (left_labels.shape[0] + right_labels.shape[0])\n",
    "        if criterion == 'gini':\n",
    "            return current_criteria - weig * Node.gini(left_labels) \\\n",
    "                                                                - (1 - weig) * Node.gini(right_labels)\n",
    "        elif criterion == 'entropy':\n",
    "            return current_criteria - weig * Node.entropy(left_labels) \\\n",
    "                                                                - (1 - weig) * Node.entropy(right_labels)\n",
    "    \n",
    "    @staticmethod\n",
    "    def split(data, labels, index, t):\n",
    "        left = np.where(data[:, index] <= t)\n",
    "        right = np.where(data[:, index] > t)\n",
    "        true_data = data[left]\n",
    "        false_data = data[right]\n",
    "        true_labels = labels[left]\n",
    "        false_labels = labels[right]\n",
    "        return true_data, false_data, true_labels, false_labels\n",
    "    \n",
    "    def find_best_split(self, data, labels):\n",
    "        if self.criterion == 'gini':\n",
    "            current_criteria = Node.gini(labels)\n",
    "        elif self.criterion == 'entropy':\n",
    "            current_criteria = Node.entropy(labels)\n",
    "        best_quality = 0\n",
    "        best_t = None\n",
    "        best_index = None\n",
    "        n_features = data.shape[1]\n",
    "        for index in range(n_features):\n",
    "            t_values = np.unique([row[index] for row in data])\n",
    "            for t in t_values:\n",
    "                true_data, false_data, true_labels, false_labels = Node.split(data, labels, index, t)\n",
    "                if len(true_data) < self.min_samples_leaf or len(false_data) < self.min_samples_leaf:\n",
    "                    continue\n",
    "                current_quality = Node.quality(true_labels, false_labels, \n",
    "                                               self.criterion, current_criteria)\n",
    "                if current_quality > best_quality:\n",
    "                    best_quality, best_t, best_index = current_quality, t, index\n",
    "        return best_quality, best_t, best_index\n",
    "\n",
    "    @staticmethod\n",
    "    def accuracy_metric(actual, predicted):\n",
    "        correct = 0\n",
    "        for i in range(len(actual)):\n",
    "            if actual[i] == predicted[i]:\n",
    "                correct += 1\n",
    "        return correct / float(len(actual))"
   ]
  },
  {
   "cell_type": "code",
   "execution_count": 8,
   "id": "7ab3d4e0",
   "metadata": {},
   "outputs": [
    {
     "name": "stdout",
     "output_type": "stream",
     "text": [
      "\u001b[1;34;48mУЗЕЛ: индекс = 0, порог = 0.16\u001b[1;37;0m\n",
      "--> Левая ветка:\n",
      "\u001b[1;34;48m   УЗЕЛ: индекс = 1, порог = -1.52\u001b[1;37;0m\n",
      "   --> Левая ветка:\n",
      "\u001b[1;34;48m      УЗЕЛ: индекс = 0, порог = -0.95\u001b[1;37;0m\n",
      "      --> Левая ветка:\n",
      "\u001b[1;32;48m          ЛИСТ: прогноз = 0, объектов = 6\u001b[1;37;0m\n",
      "      --> Правая ветка:\n",
      "\u001b[1;32;48m          ЛИСТ: прогноз = 1, объектов = 6\u001b[1;37;0m\n",
      "   --> Правая ветка:\n",
      "\u001b[1;32;48m       ЛИСТ: прогноз = 0, объектов = 28\u001b[1;37;0m\n",
      "--> Правая ветка:\n",
      "\u001b[1;32;48m    ЛИСТ: прогноз = 1, объектов = 30\u001b[1;37;0m\n"
     ]
    }
   ],
   "source": [
    "my_cls = my_DecisionTreeClassifier(criterion='entropy', min_samples_leaf=5)\n",
    "my_cls.fit(train_data, train_labels, max_depth=None)\n",
    "print_tree(my_cls.dtree)"
   ]
  },
  {
   "cell_type": "markdown",
   "id": "48e41ba6",
   "metadata": {},
   "source": [
    "##### Ну вроде работает также как в функциональном стиле)))\n",
    "\n",
    "Убил на это ну очень много времени ((("
   ]
  },
  {
   "cell_type": "code",
   "execution_count": 9,
   "id": "7655309e",
   "metadata": {},
   "outputs": [
    {
     "name": "stdout",
     "output_type": "stream",
     "text": [
      "Проверка, предсказание для n-го объекта: 1\n",
      "Проверка, критерий Gini: 0.4898\n",
      "Проверка, еще раз критерий Gini: 0.4898\n"
     ]
    }
   ],
   "source": [
    "print(f\"Проверка, предсказание для n-го объекта: {my_cls.classify_obj(train_data[4], my_cls.dtree):.0f}\")\n",
    "print(f\"Проверка, критерий Gini: {my_cls.dtree.gini(np.array([0]*6 + [1]*8)):.4f}\")\n",
    "print(f\"Проверка, еще раз критерий Gini: {Node.gini(np.array([0]*6 + [1]*8)):.4f}\")"
   ]
  },
  {
   "cell_type": "code",
   "execution_count": 10,
   "id": "34681483",
   "metadata": {},
   "outputs": [],
   "source": [
    "train_answers = my_cls.labels_predict(train_data)\n",
    "test_answers = my_cls.labels_predict(test_data)"
   ]
  },
  {
   "cell_type": "code",
   "execution_count": 11,
   "id": "3c485f56",
   "metadata": {},
   "outputs": [
    {
     "name": "stdout",
     "output_type": "stream",
     "text": [
      "train_metric: 0.9857\n",
      "test_metric:  1.0000\n"
     ]
    }
   ],
   "source": [
    "print(f\"train_metric: {my_cls.dtree.accuracy_metric(train_labels, train_answers):.4f}\")\n",
    "print(f\"test_metric:  {my_cls.dtree.accuracy_metric(test_labels, test_answers):.4f}\")"
   ]
  },
  {
   "cell_type": "markdown",
   "id": "097b1e8c",
   "metadata": {},
   "source": [
    "### Вывод по второму заданию:\n",
    "<font size=4 color=\"green\">Метрики на основе критерия gini и энтропии Шеннона ведут себя практически идентично.</font>\n",
    "\n",
    "На данном игрушечном датасете разницы вообще не видно, метрики равны на столько, что я усомнился, что сделал все правильно."
   ]
  },
  {
   "cell_type": "markdown",
   "id": "083a82a9",
   "metadata": {},
   "source": [
    "#### 3\\*. Реализуйте дерево для задачи регрессии.\n",
    "Возьмите за основу дерево, реализованное в методичке, заменив механизм предсказания в листе на взятие среднего значения по выборке, а критерий Джини на дисперсию значений. Проверьте точность предсказания дерева на одной из метрик задачи регрессии."
   ]
  },
  {
   "cell_type": "code",
   "execution_count": 12,
   "id": "4f3a7f9e",
   "metadata": {},
   "outputs": [
    {
     "data": {
      "image/png": "[encoded data removed]",
      "text/plain": [
       "<Figure size 432x432 with 1 Axes>"
      ]
     },
     "metadata": {},
     "output_type": "display_data"
    }
   ],
   "source": [
    "# 3 задание\n",
    "from sklearn import datasets\n",
    "\n",
    "regression_data, regression_labels = datasets.make_regression(n_samples=100, \n",
    "                                                              n_features=1, \n",
    "                                                              noise=10, \n",
    "                                                              random_state=42)\n",
    "\n",
    "plt.figure(figsize=(6,6), facecolor=\"g\")\n",
    "plt.scatter(regression_data, regression_labels, c='darkorange', edgecolor='black', s=30);"
   ]
  },
  {
   "cell_type": "code",
   "execution_count": 13,
   "id": "32eaaa96",
   "metadata": {},
   "outputs": [],
   "source": [
    "train_X, test_X, train_y, test_y = train_test_split(regression_data, regression_labels, \n",
    "                                                    test_size=.3, random_state=6)"
   ]
  },
  {
   "cell_type": "code",
   "execution_count": 14,
   "id": "f76e45ff",
   "metadata": {},
   "outputs": [],
   "source": [
    "class my_DecisionTreeRegressor:\n",
    "    \n",
    "    def __init__(self, criterion=\"mse\", min_samples_leaf=1, max_leaf_nodes=None):\n",
    "        self.criterion = criterion\n",
    "        self.min_samples_leaf = min_samples_leaf\n",
    "        self.max_leaf_nodes = max_leaf_nodes\n",
    "        \n",
    "    def reg_fit(self, X, y, max_depth=None):\n",
    "        self.max_depth = max_depth\n",
    "        quality, t, index = Node_reg.reg_find_best_split(self, X, y)\n",
    "        if (t is None) or (index is None):\n",
    "            return Leaf_reg(X, y)\n",
    "        true_X, false_X, true_y, false_y = Node_reg.reg_split(X, y, index, t)\n",
    "        if (len(true_X) <= self.min_samples_leaf) or (len(false_X) <= self.min_samples_leaf):\n",
    "            return Leaf_reg(X, y)\n",
    "        if max_depth is not None:\n",
    "            if max_depth != 0:\n",
    "                max_d = max_depth - 1\n",
    "                true_branch = my_DecisionTreeRegressor.reg_fit(self, true_X, true_y, max_depth=max_d)\n",
    "                false_branch = my_DecisionTreeRegressor.reg_fit(self, false_X, false_y, max_depth=max_d)\n",
    "            else:\n",
    "                return Leaf_reg(X, y)\n",
    "        else:\n",
    "            true_branch = my_DecisionTreeRegressor.reg_fit(self, true_X, true_y)\n",
    "            false_branch = my_DecisionTreeRegressor.reg_fit(self, false_X, false_y)\n",
    "        self.reg_dtree = Node_reg(index, t, true_branch, false_branch)\n",
    "        # т.е. метод reg_fit() возвращает атрибут объекта regressor (экземпляр класса \n",
    "        # my_DecisionTreeRegressor) содержащий обученный экземпляр объекта дерева (класса Node); \n",
    "        # попросту говоря возвращает обученное дерево;\n",
    "        return self.reg_dtree\n",
    "    \n",
    "    @staticmethod\n",
    "    def predict_obj(obj, node):\n",
    "        if isinstance(node, Leaf_reg):\n",
    "            answer = node.pred_value\n",
    "            return answer\n",
    "        if obj[node.index] <= node.t:\n",
    "            return my_DecisionTreeRegressor.predict_obj(obj, node.true_branch)\n",
    "        else:\n",
    "            return my_DecisionTreeRegressor.predict_obj(obj, node.false_branch)\n",
    "    \n",
    "    def reg_predict(self, X):\n",
    "        pred_vec = []\n",
    "        for obj in X:\n",
    "            pred_val = my_DecisionTreeRegressor.predict_obj(obj, self.reg_dtree)\n",
    "            pred_vec.append(pred_val)\n",
    "        return pred_vec\n",
    "\n",
    "    \n",
    "######    \n",
    "class Leaf_reg:\n",
    "    def __init__(self, X, y):\n",
    "        self.feat_values = X\n",
    "        self.targ_values = y\n",
    "        self.pred_value = np.mean(self.targ_values)\n",
    "\n",
    "\n",
    "######    \n",
    "class Node_reg:\n",
    "    def __init__(self, index, t, true_branch, false_branch):\n",
    "        self.index = index\n",
    "        self.t = t\n",
    "        self.true_branch = true_branch\n",
    "        self.false_branch = false_branch\n",
    "\n",
    "    @staticmethod\n",
    "    def reg_quality(targ_val_l, targ_val_r, disp_curr):\n",
    "        disp_left = np.var(targ_val_l)\n",
    "        disp_righ = np.var(targ_val_r)\n",
    "        weig = float(targ_val_l.shape[0]) / (targ_val_l.shape[0] + targ_val_r.shape[0])\n",
    "        return disp_curr - weig * disp_left - (1 - weig) * disp_righ\n",
    "    \n",
    "    @staticmethod\n",
    "    def reg_split(X, y, index, t):\n",
    "        left = np.where(X[:, index] <= t)\n",
    "        right = np.where(X[:, index] > t)\n",
    "        true_X = X[left]\n",
    "        false_X = X[right]\n",
    "        true_y = y[left]\n",
    "        false_y = y[right]\n",
    "        return true_X, false_X, true_y, false_y\n",
    "    \n",
    "    def reg_find_best_split(self, X, y):\n",
    "        disp_curr = np.var(y)\n",
    "        best_quality = 0\n",
    "        best_t = None\n",
    "        best_index = None\n",
    "        n_features = X.shape[1]\n",
    "        for index in range(n_features):\n",
    "            t_values = np.unique([row[index] for row in X])\n",
    "            for t in t_values:\n",
    "                true_X, false_X, true_y, false_y = Node_reg.reg_split(X, y, index, t)\n",
    "                if len(true_X) < self.min_samples_leaf or len(false_X) < self.min_samples_leaf:\n",
    "                    continue\n",
    "                current_quality = Node_reg.reg_quality(true_y, false_y, disp_curr)\n",
    "                if current_quality > best_quality:\n",
    "                    best_quality, best_t, best_index = current_quality, t, index\n",
    "        return best_quality, best_t, best_index\n",
    "\n",
    "    @staticmethod\n",
    "    def mse_metric(actual, predicted):\n",
    "        return np.mean((actual - predicted) ** 2)\n",
    "    \n",
    "\n",
    "######\n",
    "class ColorText:\n",
    "    PURPLE = '\\033[1;35;48m'\n",
    "    CYAN = '\\033[1;36;48m'\n",
    "    BOLD = '\\033[1;39;48m'\n",
    "    GREEN = '\\033[1;34;48m'\n",
    "    BLUE = '\\033[1;44;48m'\n",
    "    ORANGE = '\\033[1;32;48m'\n",
    "    YELLOW = '\\033[1;33;48m'\n",
    "    RED = '\\033[1;31;48m'\n",
    "    BLACK = '\\033[1;30;48m'\n",
    "    UNDERLINE = '\\033[1;37;48m'\n",
    "    END = '\\033[1;37;0m'\n",
    "\n",
    "def reg_print_tree(node, spacing=\"\"):\n",
    "    if isinstance(node, Leaf_reg):\n",
    "        print(ColorText.ORANGE + spacing + ' ЛИСТ' \n",
    "                  + ': прогноз = ' + str(node.pred_value) \n",
    "                  + ', объектов = ' + str(len(node.targ_values)) \n",
    "                  + ColorText.END)\n",
    "        return\n",
    "    print(ColorText.GREEN + spacing + 'УЗЕЛ'  \n",
    "              + ': индекс = ' + str(node.index) \n",
    "              + ', порог = ' + str(round(node.t, 2))\n",
    "              + ColorText.END)\n",
    "    print (spacing + '--> Левая ветка:')\n",
    "    reg_print_tree(node.true_branch, spacing + \"   \")\n",
    "    print (spacing + '--> Правая ветка:')\n",
    "    reg_print_tree(node.false_branch, spacing + \"   \")"
   ]
  },
  {
   "cell_type": "code",
   "execution_count": 15,
   "id": "c694424e",
   "metadata": {},
   "outputs": [
    {
     "name": "stdout",
     "output_type": "stream",
     "text": [
      "\u001b[1;34;48mУЗЕЛ: индекс = 0, порог = -0.23\u001b[1;37;0m\n",
      "--> Левая ветка:\n",
      "\u001b[1;34;48m   УЗЕЛ: индекс = 0, порог = -1.41\u001b[1;37;0m\n",
      "   --> Левая ветка:\n",
      "\u001b[1;32;48m       ЛИСТ: прогноз = -75.59835646812401, объектов = 7\u001b[1;37;0m\n",
      "   --> Правая ветка:\n",
      "\u001b[1;34;48m      УЗЕЛ: индекс = 0, порог = -0.6\u001b[1;37;0m\n",
      "      --> Левая ветка:\n",
      "\u001b[1;32;48m          ЛИСТ: прогноз = -40.244173819607866, объектов = 9\u001b[1;37;0m\n",
      "      --> Правая ветка:\n",
      "\u001b[1;34;48m         УЗЕЛ: индекс = 0, порог = -0.46\u001b[1;37;0m\n",
      "         --> Левая ветка:\n",
      "\u001b[1;32;48m             ЛИСТ: прогноз = -23.03151004690616, объектов = 9\u001b[1;37;0m\n",
      "         --> Правая ветка:\n",
      "\u001b[1;32;48m             ЛИСТ: прогноз = -16.787450578114036, объектов = 6\u001b[1;37;0m\n",
      "--> Правая ветка:\n",
      "\u001b[1;34;48m   УЗЕЛ: индекс = 0, порог = 0.65\u001b[1;37;0m\n",
      "   --> Левая ветка:\n",
      "\u001b[1;34;48m      УЗЕЛ: индекс = 0, порог = 0.31\u001b[1;37;0m\n",
      "      --> Левая ветка:\n",
      "\u001b[1;34;48m         УЗЕЛ: индекс = 0, порог = -0.01\u001b[1;37;0m\n",
      "         --> Левая ветка:\n",
      "\u001b[1;32;48m             ЛИСТ: прогноз = -0.8281855692554628, объектов = 6\u001b[1;37;0m\n",
      "         --> Правая ветка:\n",
      "\u001b[1;32;48m             ЛИСТ: прогноз = 4.6111705563669405, объектов = 11\u001b[1;37;0m\n",
      "      --> Правая ветка:\n",
      "\u001b[1;32;48m          ЛИСТ: прогноз = 22.57747521692777, объектов = 7\u001b[1;37;0m\n",
      "   --> Правая ветка:\n",
      "\u001b[1;34;48m      УЗЕЛ: индекс = 0, порог = 1.06\u001b[1;37;0m\n",
      "      --> Левая ветка:\n",
      "\u001b[1;32;48m          ЛИСТ: прогноз = 43.55933646594026, объектов = 8\u001b[1;37;0m\n",
      "      --> Правая ветка:\n",
      "\u001b[1;32;48m          ЛИСТ: прогноз = 71.67037271048476, объектов = 7\u001b[1;37;0m\n"
     ]
    }
   ],
   "source": [
    "my_reg = my_DecisionTreeRegressor(min_samples_leaf=5)\n",
    "my_reg.reg_fit(train_X, train_y, max_depth=None)\n",
    "reg_print_tree(my_reg.reg_dtree)"
   ]
  },
  {
   "cell_type": "code",
   "execution_count": 16,
   "id": "cad1a52c",
   "metadata": {},
   "outputs": [
    {
     "data": {
      "text/plain": [
       "array([0.96864499])"
      ]
     },
     "execution_count": 16,
     "metadata": {},
     "output_type": "execute_result"
    }
   ],
   "source": [
    "train_X[0]"
   ]
  },
  {
   "cell_type": "code",
   "execution_count": 17,
   "id": "51840eab",
   "metadata": {},
   "outputs": [
    {
     "name": "stdout",
     "output_type": "stream",
     "text": [
      "train_mse_metric: 84.2552\n",
      "test_mse_metric: 108.6150\n"
     ]
    }
   ],
   "source": [
    "my_reg.predict_obj(train_X[0], my_reg.reg_dtree)\n",
    "train_pred = my_reg.reg_predict(train_X)\n",
    "test_pred = my_reg.reg_predict(test_X)\n",
    "print(f\"train_mse_metric: {my_reg.reg_dtree.mse_metric(train_y, train_pred):.4f}\")\n",
    "print(f\"test_mse_metric: {Node_reg.mse_metric(test_y, test_pred):.4f}\")"
   ]
  },
  {
   "cell_type": "code",
   "execution_count": 18,
   "id": "4cad491d",
   "metadata": {},
   "outputs": [
    {
     "name": "stdout",
     "output_type": "stream",
     "text": [
      "[[ 77.74351303 104.10960417]\n",
      " [ 78.79791376 102.61196961]\n",
      " [ 83.46959329 111.93433245]\n",
      " [ 85.89613127 111.98016416]\n",
      " [ 84.25519406 108.61503032]\n",
      " [ 87.90124274 129.59079829]]\n"
     ]
    }
   ],
   "source": [
    "metrics = []\n",
    "for param in range(1, 7):\n",
    "    my_reg = my_DecisionTreeRegressor(min_samples_leaf=param)\n",
    "    my_reg.reg_fit(train_X, train_y, max_depth=4)\n",
    "    train_pred = my_reg.reg_predict(train_X)\n",
    "    test_pred = my_reg.reg_predict(test_X)\n",
    "    metrics.append((my_reg.reg_dtree.mse_metric(train_y, train_pred), \n",
    "                    Node_reg.mse_metric(test_y, test_pred)))\n",
    "print(np.array(metrics))"
   ]
  },
  {
   "cell_type": "code",
   "execution_count": 19,
   "id": "27bfc278",
   "metadata": {},
   "outputs": [
    {
     "data": {
      "text/plain": [
       "<matplotlib.collections.PathCollection at 0x1efce7af310>"
      ]
     },
     "execution_count": 19,
     "metadata": {},
     "output_type": "execute_result"
    },
    {
     "data": {
      "image/png": "[encoded data removed]",
      "text/plain": [
       "<Figure size 720x576 with 1 Axes>"
      ]
     },
     "metadata": {},
     "output_type": "display_data"
    }
   ],
   "source": [
    "regression_pred = my_reg.reg_predict(regression_data)\n",
    "plt.figure(figsize=(10,8), facecolor=\"g\")\n",
    "plt.scatter(regression_data, regression_labels, c=\"red\", edgecolor=\"black\", s=30)\n",
    "plt.scatter(regression_data, regression_pred, c=\"green\", edgecolor=\"black\", s=30)"
   ]
  },
  {
   "cell_type": "markdown",
   "id": "ac8f2f30",
   "metadata": {},
   "source": [
    "#### В целом модель \"ухватила\" закономерность в данных. Интересно что получился такой ступенчатый ответ."
   ]
  },
  {
   "cell_type": "markdown",
   "id": "efcfdc53",
   "metadata": {},
   "source": [
    "PS/\n",
    "Пространства имен модели классификации и регрессии перекрываются.\n",
    "\n",
    "Если выполнить ячейку с моделью классификации, то потом выдают ошибку обращения к методом регрессионной модели и наоборот, если последней выполенна ячейка с кодом регрессионной модели, корректно работают обращения к методам регрессионной модели, а сбоят обращения к методам модели классификации.\n",
    "\n",
    "Я постарался переназвать методы в регрессионной модели добавлением префикса `reg_`\n",
    "\n",
    "<font color=\"green\">Теперь всё работает как надо!))))</font>"
   ]
  }
 ],
 "metadata": {
  "kernelspec": {
   "display_name": "Python 3 (ipykernel)",
   "language": "python",
   "name": "python3"
  },
  "language_info": {
   "codemirror_mode": {
    "name": "ipython",
    "version": 3
   },
   "file_extension": ".py",
   "mimetype": "text/x-python",
   "name": "python",
   "nbconvert_exporter": "python",
   "pygments_lexer": "ipython3",
   "version": "3.9.4"
  }
 },
 "nbformat": 4,
 "nbformat_minor": 5
}
