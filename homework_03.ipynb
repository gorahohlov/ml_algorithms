{
 "cells": [
  {
   "cell_type": "code",
   "execution_count": 1,
   "id": "1f8806ff",
   "metadata": {},
   "outputs": [],
   "source": [
    "import numpy as np\n",
    "from matplotlib import pyplot as plt\n",
    "import warnings\n",
    "warnings.filterwarnings(\"ignore\")\n",
    "\n",
    "%matplotlib inline\n",
    "plt.rcParams[\"figure.facecolor\"] = \"green\""
   ]
  },
  {
   "cell_type": "code",
   "execution_count": 2,
   "id": "5f3357ba",
   "metadata": {},
   "outputs": [
    {
     "data": {
      "text/plain": [
       "array([[1.00e+00, 1.00e+00, 5.00e+02, 2.10e+01],\n",
       "       [1.00e+00, 1.00e+00, 7.00e+02, 2.50e+01],\n",
       "       [1.00e+00, 2.00e+00, 7.50e+02, 2.70e+01],\n",
       "       [1.00e+00, 1.00e+00, 6.00e+02, 2.00e+01],\n",
       "       [1.00e+00, 3.00e+00, 1.45e+03, 2.50e+01],\n",
       "       [1.00e+00, 0.00e+00, 8.00e+02, 1.80e+01],\n",
       "       [1.00e+00, 5.00e+00, 1.50e+03, 3.50e+01],\n",
       "       [1.00e+00, 1.00e+01, 2.00e+03, 6.00e+01],\n",
       "       [1.00e+00, 1.00e+00, 4.50e+02, 2.00e+01],\n",
       "       [1.00e+00, 2.00e+00, 1.00e+03, 3.00e+01]])"
      ]
     },
     "execution_count": 2,
     "metadata": {},
     "output_type": "execute_result"
    }
   ],
   "source": [
    "X = np.array([[1, 1, 1, 1, 1, 1, 1, 1, 1, 1],\n",
    "              [1, 1, 2, 1, 3, 0, 5, 10, 1, 2],  # стаж репетитора\n",
    "              [500, 700, 750, 600, 1450,        # средняя стоимость занятия\n",
    "               800, 1500, 2000, 450, 1000],\n",
    "              [21, 25, 27, 20, 25, 18, 35, 60, 20, 30]],  # возраст репетитора\n",
    "              dtype = np.float64).T \n",
    "\n",
    "y = np.array([0, 0, 0, 1, 1, 1, 1, 0, 0, 0]) # подходит или нет репетитор\n",
    "\n",
    "X"
   ]
  },
  {
   "cell_type": "code",
   "execution_count": 3,
   "id": "0d2a358f",
   "metadata": {
    "colab": {},
    "colab_type": "code",
    "id": "qMR5pOA38dDw"
   },
   "outputs": [],
   "source": [
    "def calc_logloss(y, p):\n",
    "    err = np.mean(- y * np.log(p) - (1.0 - y) * np.log(1.0 - p))\n",
    "    return err"
   ]
  },
  {
   "cell_type": "markdown",
   "id": "dd71b292",
   "metadata": {
    "colab": {},
    "colab_type": "code",
    "id": "Mbwxo9NqbLJy"
   },
   "source": [
    "### Домашние задания"
   ]
  },
  {
   "cell_type": "markdown",
   "id": "7c42fa3d",
   "metadata": {},
   "source": [
    "1. Измените функцию `calc_logloss` так, чтобы нули по возможности не попадали в `np.log` (как вариант - использовать `np.clip` или `np.where`).  "
   ]
  },
  {
   "cell_type": "markdown",
   "id": "258cc98d",
   "metadata": {},
   "source": [
    "Очень интересная задача.\n",
    "\n",
    "использование функции numpy.clip непосрественно не решает проблемы: \"обрезка\" идет по границам интервала включительно, т.е. 0 и 1 попадают в функцию логарифма.\n",
    "\n",
    "Можно попытаться схитрить. Минимальное положительное число которое python не считает нулем (я нашел методом проб) - 10e-323; Тогда выходом может быть задать интервал $[10^{-323}, 1- 10^{-323}]$; Здесь неожиданно проблема в том что $1 - (1 - 10^{-323}) = 0 \\neq 10^{-323}$. Это раз.\n",
    "\n",
    "Во-вторых, `numpy.log(1e-323)` это не какая-то заоблачная цифра чуть большая чем $-\\infty$, это просто `-743.7469`   )))\n",
    "\n",
    "Поэтому в качестве такого зазора придется использовать число порядка $10^{-16}$;"
   ]
  },
  {
   "cell_type": "code",
   "execution_count": 4,
   "id": "96facc8a",
   "metadata": {},
   "outputs": [],
   "source": [
    "def logloss_modif(y, p):\n",
    "    \n",
    "    p = np.clip(p, 1e-16, (1-1e-16))\n",
    "    err = np.mean(- y * np.log(p) - (1.0 - y) * np.log(1.0 - p))\n",
    "    return err"
   ]
  },
  {
   "cell_type": "markdown",
   "id": "da90cfd0",
   "metadata": {},
   "source": [
    "2. На данных из урока изучите влияние гиперпараметров на ошибку алгоритма. "
   ]
  },
  {
   "cell_type": "code",
   "execution_count": 5,
   "id": "a8989ad2",
   "metadata": {},
   "outputs": [],
   "source": [
    "def sigmoid(z):\n",
    "    return 1 / (1 + np.exp(-z))\n",
    "    \n",
    "def stand_scaler(arr):\n",
    "    return (arr - arr.mean(axis=0)) / arr.std(axis=0)"
   ]
  },
  {
   "cell_type": "code",
   "execution_count": 6,
   "id": "c28d4293",
   "metadata": {},
   "outputs": [],
   "source": [
    "def logreg_classifier(X, y, iter_=1e3, eta=1e-2):\n",
    "    \n",
    "    np.random.seed(42)\n",
    "    # предполагаем что признаки в столбцах\n",
    "    n = len(X)\n",
    "    m = len(X[0])\n",
    "    w = np.random.randn(m)\n",
    "    i = 0\n",
    "    \n",
    "    X[:,1:] = stand_scaler(X[:,1:])\n",
    "    \n",
    "    while i < iter_:\n",
    "        pred = X @ w\n",
    "        prob = sigmoid(pred)\n",
    "        err = logloss_modif(y, prob)\n",
    "        w -= 1/n * eta * ((prob - y) @ X)\n",
    "        i += 1\n",
    "    \n",
    "    return w, err"
   ]
  },
  {
   "cell_type": "code",
   "execution_count": 7,
   "id": "695d38dd",
   "metadata": {},
   "outputs": [
    {
     "data": {
      "image/png": "[encoded data removed]",
      "text/plain": [
       "<Figure size 864x432 with 1 Axes>"
      ]
     },
     "metadata": {},
     "output_type": "display_data"
    }
   ],
   "source": [
    "iterations = np.linspace(1e2, 1e5, 100)\n",
    "err_arr = []\n",
    "\n",
    "for i in iterations:\n",
    "    err_arr.append(logreg_classifier(X, y, iter_=i, eta=1e-3)[1])\n",
    "    \n",
    "plt.figure(figsize=(12,6))\n",
    "plt.title(\"Зависимость ошибки от количества итераций\")\n",
    "plt.xlabel(\"iterations\")\n",
    "plt.ylabel(\"model logloss error\")\n",
    "plt.plot(iterations, err_arr)\n",
    "plt.grid()\n",
    "plt.show()"
   ]
  },
  {
   "cell_type": "markdown",
   "id": "559d80eb",
   "metadata": {},
   "source": [
    "##### Вывод: с ростом итераций дисперсия (вариативность) ошибки заметно снижается и стабилизируется после 20000 итераций."
   ]
  },
  {
   "cell_type": "code",
   "execution_count": 11,
   "id": "c40bb860",
   "metadata": {},
   "outputs": [],
   "source": [
    "def accu_metric(y, w, eta=1e-3, threshold=.5):\n",
    "#     cls_pred = np.where(sigmoid(X @ logreg_classifier(X, y, eta=eta)[0]) < .5, 0, 1)\n",
    "    cls_pred = np.where(sigmoid(X @ w) < threshold, 0, 1)\n",
    "    accu = sum([1 if cls_pred[i] == y[i] else 0 for i in range(len(y))]) / len(y)\n",
    "    return accu"
   ]
  },
  {
   "cell_type": "code",
   "execution_count": 12,
   "id": "57b53d7d",
   "metadata": {},
   "outputs": [
    {
     "data": {
      "text/plain": [
       "0.9"
      ]
     },
     "execution_count": 12,
     "metadata": {},
     "output_type": "execute_result"
    }
   ],
   "source": [
    "w2 = logreg_classifier(X, y, iter_=2e4, eta=1e-2)[0]\n",
    "accu_metric(y, w2)"
   ]
  },
  {
   "cell_type": "code",
   "execution_count": 13,
   "id": "7ff4d4f0",
   "metadata": {},
   "outputs": [
    {
     "data": {
      "image/png": "[encoded data removed]",
      "text/plain": [
       "<Figure size 864x432 with 1 Axes>"
      ]
     },
     "metadata": {},
     "output_type": "display_data"
    }
   ],
   "source": [
    "eta_s = np.linspace(1e-1, 1e-5, 100)\n",
    "res_err = []\n",
    "res_acc = []\n",
    "\n",
    "for eta in eta_s:\n",
    "    w, err = logreg_classifier(X, y, iter_=2000, eta=eta)\n",
    "    res_err.append(err)\n",
    "    res_acc.append(accu_metric(y, w))\n",
    "    \n",
    "plt.figure(figsize=(12,6))\n",
    "plt.plot(eta_s, res_err)\n",
    "plt.plot(eta_s, res_acc, c=\"r\")\n",
    "plt.xlabel(\"Значения $\\eta$\")\n",
    "plt.ylabel(\"Значения ошибок модели\")\n",
    "plt.title(\"Зависимость ошибки модели от параметра $\\eta$\")\n",
    "plt.grid()\n",
    "plt.show()"
   ]
  },
  {
   "cell_type": "markdown",
   "id": "7e74f20f",
   "metadata": {},
   "source": [
    "##### Вывод: чем больше значение $\\eta$ тем меньше значение функции потерь.\n",
    "\n",
    "немного неожиданно...\n",
    "\n",
    "А что если посмотреть как влияет этот параметр на метрики (например на accuracy) - растет чем больше шаг."
   ]
  },
  {
   "cell_type": "markdown",
   "id": "e18309aa",
   "metadata": {},
   "source": [
    "3. Создайте функцию `calc_pred_proba`, возвращающую предсказанную вероятность класса \"1\". На вход функции подаются значения признаков Х и веса, которые уже посчитаны функцией `eval_LR_model`."
   ]
  },
  {
   "cell_type": "markdown",
   "id": "3c917e26",
   "metadata": {},
   "source": [
    "ну собственно почти такая функция готова выше))"
   ]
  },
  {
   "cell_type": "code",
   "execution_count": 14,
   "id": "296ad074",
   "metadata": {},
   "outputs": [],
   "source": [
    "def calc_pred_proba(X, w):\n",
    "    proba = sigmoid(X @ w)\n",
    "    return proba"
   ]
  },
  {
   "cell_type": "markdown",
   "id": "d5b93809",
   "metadata": {},
   "source": [
    "4. Создайте функцию `calc_pred`, возвращающую предсказанные классы (0 или 1). На вход функции подаются значения признаков Х и веса, которые уже посчитаны функцией `eval_LR_model`, а также порог вероятности."
   ]
  },
  {
   "cell_type": "code",
   "execution_count": 15,
   "id": "ee90404a",
   "metadata": {},
   "outputs": [],
   "source": [
    "def calc_pred(X, w, threshold=.5):\n",
    "    cls_pred = np.where(sigmoid(X @ w) < threshold, 0, 1)\n",
    "#     accu = sum([1 if cls_pred[i] == y[i] else 0 for i in range(len(y))]) / len(y)\n",
    "    return cls_pred"
   ]
  },
  {
   "cell_type": "code",
   "execution_count": 16,
   "id": "932d2eda",
   "metadata": {},
   "outputs": [
    {
     "name": "stdout",
     "output_type": "stream",
     "text": [
      "вероятности принадлежности классу: [0.34 0.43 0.36 0.39 0.62 0.58 0.46 0.26 0.32 0.48]\n",
      "предсказание класса: [0 0 0 0 1 0 0 0 0 0]\n",
      "метрика accuracy: 0.60\n",
      "\n"
     ]
    }
   ],
   "source": [
    "w1 = logreg_classifier(X, y)[0]\n",
    "print(f\"вероятности принадлежности классу: {calc_pred_proba(X, w1).round(2)}\\n\"\n",
    "      f\"предсказание класса: {calc_pred(X, w1, threshold=.6)}\\n\"\n",
    "      f\"метрика accuracy: {accu_metric(y, w1, threshold=1):.2f}\\n\")"
   ]
  },
  {
   "cell_type": "markdown",
   "id": "dc8fc306",
   "metadata": {},
   "source": [
    "5. (\\*) Напишите функции для расчета accuracy, матрицы ошибок, precision и recall, а также F1-score."
   ]
  },
  {
   "cell_type": "code",
   "execution_count": 17,
   "id": "d5db7e6b",
   "metadata": {},
   "outputs": [],
   "source": [
    "def metrics(X, y, threshold=.5):\n",
    "    w = logreg_classifier(X, y, iter_=2e4)[0]\n",
    "    cls_pred = np.where(sigmoid(X @ w) < threshold, 0, 1)\n",
    "    \n",
    "    TP, FP, FN, TN = 0, 0, 0, 0\n",
    "    \n",
    "    for cnt, val in enumerate(y):\n",
    "        if val == 0:\n",
    "            if cls_pred[cnt] == 0:\n",
    "                TN += 1\n",
    "            else:\n",
    "                FP += 1\n",
    "        else:\n",
    "            if cls_pred[cnt] == 1:\n",
    "                TP += 1\n",
    "            else:\n",
    "                FN += 1\n",
    "    \n",
    "    confusion_matrix = [[TP, FP], [FN, TN]]\n",
    "    accuracy = (TP + TN) / len(y)\n",
    "    precision = TP / (TP + FP)\n",
    "    recall = TP / (TP + FN)\n",
    "    F1_score = 2 * precision * recall / (precision + recall)\n",
    "    \n",
    "    print(f\"accuracy:={accuracy:.2f}\\n\"\n",
    "          f\"precision:={precision:.2f}\\n\"\n",
    "          f\"recall:={recall:.2f}\\n\"\n",
    "          f\"F1-score:={F1_score:.2f}\\n\"\n",
    "          f\"confusion matrix: {confusion_matrix}\")\n",
    "    return accuracy, precision, recall, round(F1_score, 2), confusion_matrix"
   ]
  },
  {
   "cell_type": "code",
   "execution_count": 18,
   "id": "3b4d03de",
   "metadata": {},
   "outputs": [
    {
     "name": "stdout",
     "output_type": "stream",
     "text": [
      "accuracy:=0.90\n",
      "precision:=1.00\n",
      "recall:=0.75\n",
      "F1-score:=0.86\n",
      "confusion matrix: [[3, 0], [1, 6]]\n"
     ]
    },
    {
     "data": {
      "text/plain": [
       "(0.9, 1.0, 0.75, 0.86, [[3, 0], [1, 6]])"
      ]
     },
     "execution_count": 18,
     "metadata": {},
     "output_type": "execute_result"
    }
   ],
   "source": [
    "metrics(X, y)"
   ]
  }
 ],
 "metadata": {
  "kernelspec": {
   "display_name": "Python 3 (ipykernel)",
   "language": "python",
   "name": "python3"
  },
  "language_info": {
   "codemirror_mode": {
    "name": "ipython",
    "version": 3
   },
   "file_extension": ".py",
   "mimetype": "text/x-python",
   "name": "python",
   "nbconvert_exporter": "python",
   "pygments_lexer": "ipython3",
   "version": "3.9.4"
  }
 },
 "nbformat": 4,
 "nbformat_minor": 5
}
